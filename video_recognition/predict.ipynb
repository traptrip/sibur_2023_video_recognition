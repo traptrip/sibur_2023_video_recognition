{
 "cells": [
  {
   "cell_type": "code",
   "execution_count": 1,
   "metadata": {},
   "outputs": [],
   "source": [
    "%load_ext autoreload\n",
    "%autoreload 2"
   ]
  },
  {
   "cell_type": "code",
   "execution_count": 2,
   "metadata": {},
   "outputs": [
    {
     "data": {
      "application/vnd.jupyter.widget-view+json": {
       "model_id": "bab9d62b7e0c4600ac63a2042ed77df6",
       "version_major": 2,
       "version_minor": 0
      },
      "text/plain": [
       "  0%|          | 0/50 [00:00<?, ?it/s]"
      ]
     },
     "metadata": {},
     "output_type": "display_data"
    }
   ],
   "source": [
    "from dataset import get_frames\n",
    "from pathlib import Path\n",
    "from tqdm.auto import tqdm\n",
    "import numpy as np\n",
    "\n",
    "\n",
    "data_dir = Path(\"../data/sibur_data/\")\n",
    "videos_paths = list(data_dir.rglob(\"*.mp4\"))\n",
    "len(videos_paths)\n",
    "\n",
    "clips = [\n",
    "    get_frames(vp)\n",
    "    for vp in tqdm(videos_paths[:50])\n",
    "]\n",
    "\n",
    "masks = [\n",
    "    np.ones(len(c), dtype=bool)\n",
    "    for c in clips\n",
    "]\n",
    "\n",
    "new_masks = []\n",
    "for m in masks:\n",
    "    new_masks.append(m)\n",
    "    for _ in range(5):\n",
    "        new_m = m.copy()\n",
    "        new_m[np.random.choice(range(0, len(m)), int(len(m)*0.4), replace=False).astype(int)] = False\n",
    "        new_masks.append(new_m)\n",
    "\n",
    "masked_clips = []\n",
    "for i, c in enumerate(clips):\n",
    "    for m in new_masks[i*6:(i+1)*6]:\n",
    "        masked_clips.append(c[m])"
   ]
  },
  {
   "cell_type": "code",
   "execution_count": 5,
   "metadata": {},
   "outputs": [],
   "source": [
    "import sys\n",
    "sys.path.append(\"../\")\n",
    "# from submit_transformer.predict import predict\n",
    "from submit_videorec.predict import predict"
   ]
  },
  {
   "cell_type": "code",
   "execution_count": 4,
   "metadata": {},
   "outputs": [
    {
     "name": "stderr",
     "output_type": "stream",
     "text": [
      "2023-06-01 20:27:53.257580082 [E:onnxruntime:, sequential_executor.cc:514 ExecuteKernel] Non-zero status code returned while running Add node. Name:'/pos_encoding/Add_1' Status Message: /onnxruntime_src/onnxruntime/core/providers/cpu/math/element_wise_ops.h:560 void onnxruntime::BroadcastIterator::Append(ptrdiff_t, ptrdiff_t) axis == 1 || axis == largest was false. Attempting to broadcast an axis by a dimension other than 1. 12545 by 25089\n",
      "\n"
     ]
    },
    {
     "ename": "RuntimeException",
     "evalue": "[ONNXRuntimeError] : 6 : RUNTIME_EXCEPTION : Non-zero status code returned while running Add node. Name:'/pos_encoding/Add_1' Status Message: /onnxruntime_src/onnxruntime/core/providers/cpu/math/element_wise_ops.h:560 void onnxruntime::BroadcastIterator::Append(ptrdiff_t, ptrdiff_t) axis == 1 || axis == largest was false. Attempting to broadcast an axis by a dimension other than 1. 12545 by 25089\n",
     "output_type": "error",
     "traceback": [
      "\u001b[0;31m---------------------------------------------------------------------------\u001b[0m",
      "\u001b[0;31mRuntimeException\u001b[0m                          Traceback (most recent call last)",
      "Cell \u001b[0;32mIn[4], line 2\u001b[0m\n\u001b[1;32m      1\u001b[0m BUFFER \u001b[39m=\u001b[39m {}\n\u001b[0;32m----> 2\u001b[0m preds1 \u001b[39m=\u001b[39m [\n\u001b[1;32m      3\u001b[0m     predict(clip)\n\u001b[1;32m      4\u001b[0m     \u001b[39mfor\u001b[39;00m clip \u001b[39min\u001b[39;00m masked_clips\n\u001b[1;32m      5\u001b[0m ]\n",
      "Cell \u001b[0;32mIn[4], line 3\u001b[0m, in \u001b[0;36m<listcomp>\u001b[0;34m(.0)\u001b[0m\n\u001b[1;32m      1\u001b[0m BUFFER \u001b[39m=\u001b[39m {}\n\u001b[1;32m      2\u001b[0m preds1 \u001b[39m=\u001b[39m [\n\u001b[0;32m----> 3\u001b[0m     predict(clip)\n\u001b[1;32m      4\u001b[0m     \u001b[39mfor\u001b[39;00m clip \u001b[39min\u001b[39;00m masked_clips\n\u001b[1;32m      5\u001b[0m ]\n",
      "File \u001b[0;32m~/projects/hacks/sibur_2023/video_recognition/../submit_videorec/predict.py:87\u001b[0m, in \u001b[0;36mpredict\u001b[0;34m(clip)\u001b[0m\n\u001b[1;32m     85\u001b[0m \u001b[39m# if have no matches\u001b[39;00m\n\u001b[1;32m     86\u001b[0m inputs \u001b[39m=\u001b[39m preprocess(clip, n_frames\u001b[39m=\u001b[39mN_FRAMES)\n\u001b[0;32m---> 87\u001b[0m predict \u001b[39m=\u001b[39m model\u001b[39m.\u001b[39;49mrun(\u001b[39mNone\u001b[39;49;00m, inputs)[\u001b[39m0\u001b[39m]\u001b[39m.\u001b[39margmax(\u001b[39m1\u001b[39m)[\u001b[39m0\u001b[39m]\n\u001b[1;32m     89\u001b[0m \u001b[39mfor\u001b[39;00m c \u001b[39min\u001b[39;00m clip[\u001b[39m1\u001b[39m:\u001b[39m9\u001b[39m, :window_size, :window_size]:\n\u001b[1;32m     90\u001b[0m     c \u001b[39m=\u001b[39m \u001b[39mtuple\u001b[39m(c\u001b[39m.\u001b[39mflatten())\n",
      "File \u001b[0;32m~/miniforge3/envs/sibur/lib/python3.10/site-packages/onnxruntime/capi/onnxruntime_inference_collection.py:217\u001b[0m, in \u001b[0;36mSession.run\u001b[0;34m(self, output_names, input_feed, run_options)\u001b[0m\n\u001b[1;32m    215\u001b[0m     output_names \u001b[39m=\u001b[39m [output\u001b[39m.\u001b[39mname \u001b[39mfor\u001b[39;00m output \u001b[39min\u001b[39;00m \u001b[39mself\u001b[39m\u001b[39m.\u001b[39m_outputs_meta]\n\u001b[1;32m    216\u001b[0m \u001b[39mtry\u001b[39;00m:\n\u001b[0;32m--> 217\u001b[0m     \u001b[39mreturn\u001b[39;00m \u001b[39mself\u001b[39;49m\u001b[39m.\u001b[39;49m_sess\u001b[39m.\u001b[39;49mrun(output_names, input_feed, run_options)\n\u001b[1;32m    218\u001b[0m \u001b[39mexcept\u001b[39;00m C\u001b[39m.\u001b[39mEPFail \u001b[39mas\u001b[39;00m err:\n\u001b[1;32m    219\u001b[0m     \u001b[39mif\u001b[39;00m \u001b[39mself\u001b[39m\u001b[39m.\u001b[39m_enable_fallback:\n",
      "\u001b[0;31mRuntimeException\u001b[0m: [ONNXRuntimeError] : 6 : RUNTIME_EXCEPTION : Non-zero status code returned while running Add node. Name:'/pos_encoding/Add_1' Status Message: /onnxruntime_src/onnxruntime/core/providers/cpu/math/element_wise_ops.h:560 void onnxruntime::BroadcastIterator::Append(ptrdiff_t, ptrdiff_t) axis == 1 || axis == largest was false. Attempting to broadcast an axis by a dimension other than 1. 12545 by 25089\n"
     ]
    }
   ],
   "source": [
    "BUFFER = {}\n",
    "preds1 = [\n",
    "    predict(clip)\n",
    "    for clip in masked_clips\n",
    "]"
   ]
  },
  {
   "cell_type": "code",
   "execution_count": null,
   "metadata": {},
   "outputs": [],
   "source": [
    "# 21.5\n",
    "# 20.8\n",
    "\n",
    "# 9.89 s ± 46.9 ms"
   ]
  }
 ],
 "metadata": {
  "kernelspec": {
   "display_name": "sibur",
   "language": "python",
   "name": "python3"
  },
  "language_info": {
   "codemirror_mode": {
    "name": "ipython",
    "version": 3
   },
   "file_extension": ".py",
   "mimetype": "text/x-python",
   "name": "python",
   "nbconvert_exporter": "python",
   "pygments_lexer": "ipython3",
   "version": "3.10.11"
  },
  "orig_nbformat": 4
 },
 "nbformat": 4,
 "nbformat_minor": 2
}
