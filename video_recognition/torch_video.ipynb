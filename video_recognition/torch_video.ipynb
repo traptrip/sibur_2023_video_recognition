{
 "cells": [
  {
   "cell_type": "code",
   "execution_count": 1,
   "metadata": {},
   "outputs": [],
   "source": [
    "%load_ext autoreload\n",
    "%autoreload 2"
   ]
  },
  {
   "cell_type": "code",
   "execution_count": 2,
   "metadata": {},
   "outputs": [
    {
     "data": {
      "text/plain": [
       "'cuda'"
      ]
     },
     "execution_count": 2,
     "metadata": {},
     "output_type": "execute_result"
    }
   ],
   "source": [
    "import os\n",
    "\n",
    "import av\n",
    "import numpy as np\n",
    "import pandas as pd\n",
    "from pathlib import Path\n",
    "\n",
    "from tqdm.notebook import tqdm\n",
    "\n",
    "from sklearn.model_selection import train_test_split\n",
    "from sklearn.metrics import f1_score\n",
    "\n",
    "import albumentations as A\n",
    "from albumentations.pytorch import ToTensorV2\n",
    "\n",
    "import torch\n",
    "import torch.optim as optim\n",
    "import torchvision\n",
    "from torch.utils.data import Dataset, DataLoader, RandomSampler\n",
    "from torchvision import models\n",
    "from timm.data import OPENAI_CLIP_MEAN, OPENAI_CLIP_STD\n",
    "from torch.cuda.amp import GradScaler\n",
    "from torch.utils.data.dataloader import default_collate\n",
    "from torch.utils.tensorboard import SummaryWriter\n",
    "\n",
    "from transforms import RandomCutmix, RandomMixup\n",
    "from sampler import RASampler\n",
    "\n",
    "\n",
    "os.environ['TOKENIZERS_PARALLELISM'] = 'false'\n",
    "\n",
    "scaler = GradScaler()\n",
    "tb_writer = SummaryWriter(log_dir=\"runs/exp\")\n",
    "\n",
    "root_dir = '../data/sibur_data/'\n",
    "device = 'cuda' if torch.cuda.is_available() else 'cpu'\n",
    "\n",
    "batch_size = 32\n",
    "n_frames = 4\n",
    "N_CLASSES = 4\n",
    "\n",
    "USE_EMA = True\n",
    "world_size = 1\n",
    "model_ema_steps=32\n",
    "model_ema_decay = 0.99998\n",
    "\n",
    "MIXUP_ALPHA = 0.2\n",
    "CUTMIX_ALPHA = 1.0\n",
    "\n",
    "RA_REPS = 3\n",
    "\n",
    "device"
   ]
  },
  {
   "cell_type": "code",
   "execution_count": 3,
   "metadata": {},
   "outputs": [],
   "source": [
    "class ExponentialMovingAverage(torch.optim.swa_utils.AveragedModel):\n",
    "    \"\"\"Maintains moving averages of model parameters using an exponential decay.\n",
    "    ``ema_avg = decay * avg_model_param + (1 - decay) * model_param``\n",
    "    `torch.optim.swa_utils.AveragedModel <https://pytorch.org/docs/stable/optim.html#custom-averaging-strategies>`_\n",
    "    is used to compute the EMA.\n",
    "    \"\"\"\n",
    "\n",
    "    def __init__(self, model, decay, device=\"cpu\"):\n",
    "        def ema_avg(avg_model_param, model_param, num_averaged):\n",
    "            return decay * avg_model_param + (1 - decay) * model_param\n",
    "\n",
    "        super().__init__(model, device, ema_avg, use_buffers=True)"
   ]
  },
  {
   "cell_type": "code",
   "execution_count": 4,
   "metadata": {},
   "outputs": [],
   "source": [
    "def apply_video_augmentations(video, transform):\n",
    "    targets={'image': video[0]}\n",
    "    for i in range(1, video.shape[0]):\n",
    "        targets[f'image{i}'] = video[i]\n",
    "    transformed = transform(**targets)\n",
    "    transformed = np.concatenate(\n",
    "        [np.expand_dims(transformed['image'], axis=0)] \n",
    "        + [np.expand_dims(transformed[f'image{i}'], axis=0) for i in range(1, video.shape[0])]\n",
    "    )\n",
    "    return transformed\n",
    "\n",
    "def apply_video_augmentations_torch(video, transform):\n",
    "    targets={'image': video[0]}\n",
    "    for i in range(1, video.shape[0]):\n",
    "        targets[f'image{i}'] = video[i]\n",
    "    transformed = transform(**targets)\n",
    "    transformed = torch.cat(\n",
    "        [transformed['image'][None]] \n",
    "        + [transformed[f'image{i}'][None] for i in range(1, video.shape[0])]\n",
    "    )\n",
    "    transformed = transformed.permute(1, 0, 2, 3) # (batch,seq,ch,w,h) -> (batch,ch,seq,w,h)\n",
    "    return transformed\n",
    "\n",
    "\n",
    "def read_video_pyav(container, indices):\n",
    "    '''\n",
    "    Decode the video with PyAV decoder.\n",
    "    Args:\n",
    "        container (`av.container.input.InputContainer`): PyAV container.\n",
    "        indices (`List[int]`): List of frame indices to decode.\n",
    "    Returns:\n",
    "        result (np.ndarray): np array of decoded frames of shape (num_frames, height, width, 3).\n",
    "    '''\n",
    "    frames = []\n",
    "    container.seek(0)\n",
    "    start_index = indices[0]\n",
    "    end_index = indices[-1]\n",
    "    for i, frame in enumerate(container.decode(video=0)):\n",
    "        if i > end_index:\n",
    "            break\n",
    "        if i >= start_index and i in indices:\n",
    "            frames.append(frame)\n",
    "    return np.stack([x.to_ndarray(format=\"rgb24\") for x in frames])\n",
    "\n",
    "\n",
    "def sample_frame_indices(clip_len, seg_len):\n",
    "    start_idx, end_idx = 0, seg_len\n",
    "    indices = np.linspace(start_idx, end_idx, num=clip_len)\n",
    "    indices = np.clip(indices, start_idx, end_idx - 1).astype(np.int64)\n",
    "    return indices"
   ]
  },
  {
   "attachments": {},
   "cell_type": "markdown",
   "metadata": {},
   "source": [
    "# Dataset preparation"
   ]
  },
  {
   "cell_type": "code",
   "execution_count": 5,
   "metadata": {},
   "outputs": [],
   "source": [
    "id2label = {0: \"bridge_down\", 1: \"bridge_up\", 2: \"no_action\", 3: \"train_in_out\"}\n",
    "label2id = {l:i for i, l in id2label.items()}\n",
    "labels = list(id2label.values())\n",
    "\n",
    "video_paths = list(Path(root_dir).rglob(\"*.mp4\"))\n",
    "targets = [vp.parent.name for vp in video_paths]\n",
    "train = pd.DataFrame({\n",
    "    \"video_path\": [v.as_posix() for v in video_paths],\n",
    "    \"label\": targets,\n",
    "})"
   ]
  },
  {
   "cell_type": "code",
   "execution_count": 6,
   "metadata": {},
   "outputs": [
    {
     "data": {
      "text/plain": [
       "bridge_down     306\n",
       "bridge_up        75\n",
       "train_in_out     66\n",
       "no_action        49\n",
       "Name: label, dtype: int64"
      ]
     },
     "execution_count": 6,
     "metadata": {},
     "output_type": "execute_result"
    }
   ],
   "source": [
    "train.label.value_counts()"
   ]
  },
  {
   "cell_type": "code",
   "execution_count": 7,
   "metadata": {},
   "outputs": [],
   "source": [
    "train['label_id'] = train.label.map(label2id)"
   ]
  },
  {
   "cell_type": "code",
   "execution_count": 8,
   "metadata": {},
   "outputs": [],
   "source": [
    "# X_train, X_val, _, _ = train_test_split(train, train['label'], test_size=0.1, random_state=42)\n",
    "\n",
    "# X_train.to_csv(\"train.csv\", index=False)\n",
    "# X_val.to_csv(\"test.csv\", index=False)\n",
    "# X_train = X_val = train\n",
    "\n",
    "X_train = pd.read_csv(\"train.csv\")\n",
    "X_val = pd.read_csv(\"test.csv\")"
   ]
  },
  {
   "attachments": {},
   "cell_type": "markdown",
   "metadata": {},
   "source": [
    "# Load model"
   ]
  },
  {
   "cell_type": "code",
   "execution_count": 9,
   "metadata": {},
   "outputs": [
    {
     "name": "stderr",
     "output_type": "stream",
     "text": [
      "/home/and/miniforge3/envs/sibur/lib/python3.10/site-packages/torchvision/models/_utils.py:135: UserWarning: Using 'weights' as positional parameter(s) is deprecated since 0.13 and may be removed in the future. Please use keyword parameter(s) instead.\n",
      "  warnings.warn(\n"
     ]
    },
    {
     "data": {
      "text/plain": [
       "SwinTransformer3d(\n",
       "  (patch_embed): PatchEmbed3d(\n",
       "    (proj): Conv3d(3, 96, kernel_size=(2, 4, 4), stride=(2, 4, 4))\n",
       "    (norm): LayerNorm((96,), eps=1e-05, elementwise_affine=True)\n",
       "  )\n",
       "  (pos_drop): Dropout(p=0.0, inplace=False)\n",
       "  (features): Sequential(\n",
       "    (0): Sequential(\n",
       "      (0): SwinTransformerBlock(\n",
       "        (norm1): LayerNorm((96,), eps=1e-05, elementwise_affine=True)\n",
       "        (attn): ShiftedWindowAttention3d(\n",
       "          (qkv): Linear(in_features=96, out_features=288, bias=True)\n",
       "          (proj): Linear(in_features=96, out_features=96, bias=True)\n",
       "        )\n",
       "        (stochastic_depth): StochasticDepth(p=0.0, mode=row)\n",
       "        (norm2): LayerNorm((96,), eps=1e-05, elementwise_affine=True)\n",
       "        (mlp): MLP(\n",
       "          (0): Linear(in_features=96, out_features=384, bias=True)\n",
       "          (1): GELU(approximate='none')\n",
       "          (2): Dropout(p=0.0, inplace=False)\n",
       "          (3): Linear(in_features=384, out_features=96, bias=True)\n",
       "          (4): Dropout(p=0.0, inplace=False)\n",
       "        )\n",
       "      )\n",
       "      (1): SwinTransformerBlock(\n",
       "        (norm1): LayerNorm((96,), eps=1e-05, elementwise_affine=True)\n",
       "        (attn): ShiftedWindowAttention3d(\n",
       "          (qkv): Linear(in_features=96, out_features=288, bias=True)\n",
       "          (proj): Linear(in_features=96, out_features=96, bias=True)\n",
       "        )\n",
       "        (stochastic_depth): StochasticDepth(p=0.009090909090909092, mode=row)\n",
       "        (norm2): LayerNorm((96,), eps=1e-05, elementwise_affine=True)\n",
       "        (mlp): MLP(\n",
       "          (0): Linear(in_features=96, out_features=384, bias=True)\n",
       "          (1): GELU(approximate='none')\n",
       "          (2): Dropout(p=0.0, inplace=False)\n",
       "          (3): Linear(in_features=384, out_features=96, bias=True)\n",
       "          (4): Dropout(p=0.0, inplace=False)\n",
       "        )\n",
       "      )\n",
       "    )\n",
       "    (1): PatchMerging(\n",
       "      (reduction): Linear(in_features=384, out_features=192, bias=False)\n",
       "      (norm): LayerNorm((384,), eps=1e-05, elementwise_affine=True)\n",
       "    )\n",
       "    (2): Sequential(\n",
       "      (0): SwinTransformerBlock(\n",
       "        (norm1): LayerNorm((192,), eps=1e-05, elementwise_affine=True)\n",
       "        (attn): ShiftedWindowAttention3d(\n",
       "          (qkv): Linear(in_features=192, out_features=576, bias=True)\n",
       "          (proj): Linear(in_features=192, out_features=192, bias=True)\n",
       "        )\n",
       "        (stochastic_depth): StochasticDepth(p=0.018181818181818184, mode=row)\n",
       "        (norm2): LayerNorm((192,), eps=1e-05, elementwise_affine=True)\n",
       "        (mlp): MLP(\n",
       "          (0): Linear(in_features=192, out_features=768, bias=True)\n",
       "          (1): GELU(approximate='none')\n",
       "          (2): Dropout(p=0.0, inplace=False)\n",
       "          (3): Linear(in_features=768, out_features=192, bias=True)\n",
       "          (4): Dropout(p=0.0, inplace=False)\n",
       "        )\n",
       "      )\n",
       "      (1): SwinTransformerBlock(\n",
       "        (norm1): LayerNorm((192,), eps=1e-05, elementwise_affine=True)\n",
       "        (attn): ShiftedWindowAttention3d(\n",
       "          (qkv): Linear(in_features=192, out_features=576, bias=True)\n",
       "          (proj): Linear(in_features=192, out_features=192, bias=True)\n",
       "        )\n",
       "        (stochastic_depth): StochasticDepth(p=0.02727272727272728, mode=row)\n",
       "        (norm2): LayerNorm((192,), eps=1e-05, elementwise_affine=True)\n",
       "        (mlp): MLP(\n",
       "          (0): Linear(in_features=192, out_features=768, bias=True)\n",
       "          (1): GELU(approximate='none')\n",
       "          (2): Dropout(p=0.0, inplace=False)\n",
       "          (3): Linear(in_features=768, out_features=192, bias=True)\n",
       "          (4): Dropout(p=0.0, inplace=False)\n",
       "        )\n",
       "      )\n",
       "    )\n",
       "    (3): PatchMerging(\n",
       "      (reduction): Linear(in_features=768, out_features=384, bias=False)\n",
       "      (norm): LayerNorm((768,), eps=1e-05, elementwise_affine=True)\n",
       "    )\n",
       "    (4): Sequential(\n",
       "      (0): SwinTransformerBlock(\n",
       "        (norm1): LayerNorm((384,), eps=1e-05, elementwise_affine=True)\n",
       "        (attn): ShiftedWindowAttention3d(\n",
       "          (qkv): Linear(in_features=384, out_features=1152, bias=True)\n",
       "          (proj): Linear(in_features=384, out_features=384, bias=True)\n",
       "        )\n",
       "        (stochastic_depth): StochasticDepth(p=0.03636363636363637, mode=row)\n",
       "        (norm2): LayerNorm((384,), eps=1e-05, elementwise_affine=True)\n",
       "        (mlp): MLP(\n",
       "          (0): Linear(in_features=384, out_features=1536, bias=True)\n",
       "          (1): GELU(approximate='none')\n",
       "          (2): Dropout(p=0.0, inplace=False)\n",
       "          (3): Linear(in_features=1536, out_features=384, bias=True)\n",
       "          (4): Dropout(p=0.0, inplace=False)\n",
       "        )\n",
       "      )\n",
       "      (1): SwinTransformerBlock(\n",
       "        (norm1): LayerNorm((384,), eps=1e-05, elementwise_affine=True)\n",
       "        (attn): ShiftedWindowAttention3d(\n",
       "          (qkv): Linear(in_features=384, out_features=1152, bias=True)\n",
       "          (proj): Linear(in_features=384, out_features=384, bias=True)\n",
       "        )\n",
       "        (stochastic_depth): StochasticDepth(p=0.045454545454545456, mode=row)\n",
       "        (norm2): LayerNorm((384,), eps=1e-05, elementwise_affine=True)\n",
       "        (mlp): MLP(\n",
       "          (0): Linear(in_features=384, out_features=1536, bias=True)\n",
       "          (1): GELU(approximate='none')\n",
       "          (2): Dropout(p=0.0, inplace=False)\n",
       "          (3): Linear(in_features=1536, out_features=384, bias=True)\n",
       "          (4): Dropout(p=0.0, inplace=False)\n",
       "        )\n",
       "      )\n",
       "      (2): SwinTransformerBlock(\n",
       "        (norm1): LayerNorm((384,), eps=1e-05, elementwise_affine=True)\n",
       "        (attn): ShiftedWindowAttention3d(\n",
       "          (qkv): Linear(in_features=384, out_features=1152, bias=True)\n",
       "          (proj): Linear(in_features=384, out_features=384, bias=True)\n",
       "        )\n",
       "        (stochastic_depth): StochasticDepth(p=0.05454545454545456, mode=row)\n",
       "        (norm2): LayerNorm((384,), eps=1e-05, elementwise_affine=True)\n",
       "        (mlp): MLP(\n",
       "          (0): Linear(in_features=384, out_features=1536, bias=True)\n",
       "          (1): GELU(approximate='none')\n",
       "          (2): Dropout(p=0.0, inplace=False)\n",
       "          (3): Linear(in_features=1536, out_features=384, bias=True)\n",
       "          (4): Dropout(p=0.0, inplace=False)\n",
       "        )\n",
       "      )\n",
       "      (3): SwinTransformerBlock(\n",
       "        (norm1): LayerNorm((384,), eps=1e-05, elementwise_affine=True)\n",
       "        (attn): ShiftedWindowAttention3d(\n",
       "          (qkv): Linear(in_features=384, out_features=1152, bias=True)\n",
       "          (proj): Linear(in_features=384, out_features=384, bias=True)\n",
       "        )\n",
       "        (stochastic_depth): StochasticDepth(p=0.06363636363636364, mode=row)\n",
       "        (norm2): LayerNorm((384,), eps=1e-05, elementwise_affine=True)\n",
       "        (mlp): MLP(\n",
       "          (0): Linear(in_features=384, out_features=1536, bias=True)\n",
       "          (1): GELU(approximate='none')\n",
       "          (2): Dropout(p=0.0, inplace=False)\n",
       "          (3): Linear(in_features=1536, out_features=384, bias=True)\n",
       "          (4): Dropout(p=0.0, inplace=False)\n",
       "        )\n",
       "      )\n",
       "      (4): SwinTransformerBlock(\n",
       "        (norm1): LayerNorm((384,), eps=1e-05, elementwise_affine=True)\n",
       "        (attn): ShiftedWindowAttention3d(\n",
       "          (qkv): Linear(in_features=384, out_features=1152, bias=True)\n",
       "          (proj): Linear(in_features=384, out_features=384, bias=True)\n",
       "        )\n",
       "        (stochastic_depth): StochasticDepth(p=0.07272727272727274, mode=row)\n",
       "        (norm2): LayerNorm((384,), eps=1e-05, elementwise_affine=True)\n",
       "        (mlp): MLP(\n",
       "          (0): Linear(in_features=384, out_features=1536, bias=True)\n",
       "          (1): GELU(approximate='none')\n",
       "          (2): Dropout(p=0.0, inplace=False)\n",
       "          (3): Linear(in_features=1536, out_features=384, bias=True)\n",
       "          (4): Dropout(p=0.0, inplace=False)\n",
       "        )\n",
       "      )\n",
       "      (5): SwinTransformerBlock(\n",
       "        (norm1): LayerNorm((384,), eps=1e-05, elementwise_affine=True)\n",
       "        (attn): ShiftedWindowAttention3d(\n",
       "          (qkv): Linear(in_features=384, out_features=1152, bias=True)\n",
       "          (proj): Linear(in_features=384, out_features=384, bias=True)\n",
       "        )\n",
       "        (stochastic_depth): StochasticDepth(p=0.08181818181818182, mode=row)\n",
       "        (norm2): LayerNorm((384,), eps=1e-05, elementwise_affine=True)\n",
       "        (mlp): MLP(\n",
       "          (0): Linear(in_features=384, out_features=1536, bias=True)\n",
       "          (1): GELU(approximate='none')\n",
       "          (2): Dropout(p=0.0, inplace=False)\n",
       "          (3): Linear(in_features=1536, out_features=384, bias=True)\n",
       "          (4): Dropout(p=0.0, inplace=False)\n",
       "        )\n",
       "      )\n",
       "    )\n",
       "    (5): PatchMerging(\n",
       "      (reduction): Linear(in_features=1536, out_features=768, bias=False)\n",
       "      (norm): LayerNorm((1536,), eps=1e-05, elementwise_affine=True)\n",
       "    )\n",
       "    (6): Sequential(\n",
       "      (0): SwinTransformerBlock(\n",
       "        (norm1): LayerNorm((768,), eps=1e-05, elementwise_affine=True)\n",
       "        (attn): ShiftedWindowAttention3d(\n",
       "          (qkv): Linear(in_features=768, out_features=2304, bias=True)\n",
       "          (proj): Linear(in_features=768, out_features=768, bias=True)\n",
       "        )\n",
       "        (stochastic_depth): StochasticDepth(p=0.09090909090909091, mode=row)\n",
       "        (norm2): LayerNorm((768,), eps=1e-05, elementwise_affine=True)\n",
       "        (mlp): MLP(\n",
       "          (0): Linear(in_features=768, out_features=3072, bias=True)\n",
       "          (1): GELU(approximate='none')\n",
       "          (2): Dropout(p=0.0, inplace=False)\n",
       "          (3): Linear(in_features=3072, out_features=768, bias=True)\n",
       "          (4): Dropout(p=0.0, inplace=False)\n",
       "        )\n",
       "      )\n",
       "      (1): SwinTransformerBlock(\n",
       "        (norm1): LayerNorm((768,), eps=1e-05, elementwise_affine=True)\n",
       "        (attn): ShiftedWindowAttention3d(\n",
       "          (qkv): Linear(in_features=768, out_features=2304, bias=True)\n",
       "          (proj): Linear(in_features=768, out_features=768, bias=True)\n",
       "        )\n",
       "        (stochastic_depth): StochasticDepth(p=0.1, mode=row)\n",
       "        (norm2): LayerNorm((768,), eps=1e-05, elementwise_affine=True)\n",
       "        (mlp): MLP(\n",
       "          (0): Linear(in_features=768, out_features=3072, bias=True)\n",
       "          (1): GELU(approximate='none')\n",
       "          (2): Dropout(p=0.0, inplace=False)\n",
       "          (3): Linear(in_features=3072, out_features=768, bias=True)\n",
       "          (4): Dropout(p=0.0, inplace=False)\n",
       "        )\n",
       "      )\n",
       "    )\n",
       "  )\n",
       "  (norm): LayerNorm((768,), eps=1e-05, elementwise_affine=True)\n",
       "  (avgpool): AdaptiveAvgPool3d(output_size=1)\n",
       "  (head): Linear(in_features=768, out_features=4, bias=True)\n",
       ")"
      ]
     },
     "execution_count": 9,
     "metadata": {},
     "output_type": "execute_result"
    }
   ],
   "source": [
    "# model = models.video.mvit_v2_s(\"DEFAULT\")\n",
    "# model.head[1] = torch.nn.Linear(model.head[1].in_features, 4)\n",
    "# model.to(device)\n",
    "\n",
    "model = models.video.swin3d_t(\"DEFAULT\")\n",
    "model.head = torch.nn.Linear(model.head.in_features, N_CLASSES)\n",
    "model.to(device)\n",
    "\n",
    "# model = models.video.s3d(\"DEFAULT\")\n",
    "# model.classifier[1] = torch.nn.Conv3d(model.classifier[1].in_channels, N_CLASSES, kernel_size=1, stride=1)\n",
    "# model.to(device)\n",
    "\n",
    "# model = models.video.r2plus1d_18(\"DEFAULT\")\n",
    "# model.fc = torch.nn.Linear(model.fc.in_features, N_CLASSES)\n",
    "# model.to(device)\n",
    "\n",
    "# model = models.video.swin3d_s(\"DEFAULT\")\n",
    "# model.head = torch.nn.Linear(model.head.in_features, N_CLASSES)\n",
    "# model.to(device)"
   ]
  },
  {
   "cell_type": "code",
   "execution_count": 10,
   "metadata": {},
   "outputs": [],
   "source": [
    "# t = torch.zeros((1, 3, 16, 224, 224)).cuda()\n",
    "# model(t)"
   ]
  },
  {
   "attachments": {},
   "cell_type": "markdown",
   "metadata": {},
   "source": [
    "# Train"
   ]
  },
  {
   "cell_type": "code",
   "execution_count": 11,
   "metadata": {},
   "outputs": [
    {
     "name": "stderr",
     "output_type": "stream",
     "text": [
      "/home/and/miniforge3/envs/sibur/lib/python3.10/site-packages/albumentations/augmentations/dropout/cutout.py:49: FutureWarning: Cutout has been deprecated. Please use CoarseDropout\n",
      "  warnings.warn(\n"
     ]
    }
   ],
   "source": [
    "train_transform = A.Compose([\n",
    "    A.Resize(256, 256),\n",
    "    # A.CenterCrop(224, 224),\n",
    "    A.RandomResizedCrop(224, 224),\n",
    "    A.HorizontalFlip(p=0.5),\n",
    "    A.Cutout(p=0.15),\n",
    "    A.ShiftScaleRotate(\n",
    "        shift_limit=0.05, scale_limit=0.05, rotate_limit=15, p=0.5\n",
    "    ),\n",
    "    A.RGBShift(r_shift_limit=15, g_shift_limit=15, b_shift_limit=15, p=0.5),\n",
    "    A.RandomBrightnessContrast(p=0.5),\n",
    "    A.OneOf([  # One of blur or adding gauss noise\n",
    "        A.Blur(p=0.5),  # Blurs the image\n",
    "        A.GaussNoise(var_limit=5.0 / 255.0, p=0.50)  # Adds Gauss noise to image\n",
    "    ], p=0.5),\n",
    "    # A.HueSaturationValue(p=0.5),\n",
    "    A.Normalize(OPENAI_CLIP_MEAN, OPENAI_CLIP_STD),\n",
    "    ToTensorV2(),\n",
    "], additional_targets={\n",
    "    f'image{i}': 'image'\n",
    "    for i in range(1, n_frames)\n",
    "})\n",
    "\n",
    "transform = A.Compose([\n",
    "    A.Resize(232, 232),\n",
    "    A.CenterCrop(224, 224),\n",
    "    A.Normalize(OPENAI_CLIP_MEAN, OPENAI_CLIP_STD),\n",
    "    ToTensorV2(),\n",
    "], additional_targets={\n",
    "    f'image{i}': 'image'\n",
    "    for i in range(1, n_frames)\n",
    "})\n",
    "\n",
    "\n",
    "# MIXUP CUTMIX\n",
    "mix_transforms = []\n",
    "if MIXUP_ALPHA:\n",
    "    mix_transforms.append(RandomMixup(N_CLASSES, p=1.0, alpha=MIXUP_ALPHA))\n",
    "if CUTMIX_ALPHA:\n",
    "    mix_transforms.append(RandomCutmix(N_CLASSES, p=1.0, alpha=CUTMIX_ALPHA))\n",
    "mixup_cutmix = torchvision.transforms.RandomChoice(mix_transforms)\n",
    "def collate_fn(batch):\n",
    "    return mixup_cutmix(*default_collate(batch))"
   ]
  },
  {
   "cell_type": "code",
   "execution_count": 12,
   "metadata": {},
   "outputs": [],
   "source": [
    "class ActionDataset(Dataset):\n",
    "\n",
    "    def __init__(self, meta, stage, transform=None, n_frames=16):\n",
    "        self.meta = meta\n",
    "        self.transform = transform\n",
    "        self.n_frames = n_frames\n",
    "        self.stage = stage\n",
    "\n",
    "    def __len__(self):\n",
    "        return len(self.meta)\n",
    "\n",
    "    @staticmethod\n",
    "    def _sample_frame_indices(clip_len, frame_sample_rate, seg_len):\n",
    "        converted_len = int(clip_len * frame_sample_rate)\n",
    "        end_idx = np.random.randint(converted_len, seg_len+1)\n",
    "        start_idx = end_idx - converted_len\n",
    "        indices = np.linspace(start_idx, end_idx, num=clip_len)\n",
    "        indices = np.clip(indices, start_idx, end_idx - 1).astype(np.int64)\n",
    "        return indices\n",
    "\n",
    "    def __getitem__(self, idx):\n",
    "        if torch.is_tensor(idx):\n",
    "            idx = idx.tolist()\n",
    "\n",
    "        file_path = self.meta['video_path'].iloc[idx]\n",
    "        container = av.open(file_path)\n",
    "\n",
    "        seg_len=container.streams.video[0].frames\n",
    "        if self.stage == \"train\":\n",
    "            # mask indices\n",
    "            # в тесте 5/6 всех видео замаскированы\n",
    "            if np.random.random() < 0.8: \n",
    "                first_idxs = np.random.choice(\n",
    "                    range(0, seg_len), \n",
    "                    int(seg_len*np.random.choice([0.75])), \n",
    "                    replace=False\n",
    "                ).astype(int)\n",
    "                first_idxs.sort()\n",
    "            else:\n",
    "                first_idxs = np.arange(seg_len)\n",
    "\n",
    "            # get frames\n",
    "            start_idx = np.random.randint(0, len(first_idxs) // 2)\n",
    "            end_idx = min(np.random.randint(len(first_idxs) // 2, len(first_idxs)) + self.n_frames, len(first_idxs))\n",
    "            indices = np.linspace(start_idx, end_idx, num=self.n_frames)\n",
    "            indices = np.clip(indices, start_idx, end_idx - 1).astype(np.int64)\n",
    "\n",
    "            indices = first_idxs[indices]\n",
    "        else:\n",
    "            indices = sample_frame_indices(clip_len=self.n_frames, seg_len=container.streams.video[0].frames)\n",
    "\n",
    "        video = read_video_pyav(container, indices)\n",
    "                    \n",
    "        while video.shape[0] < self.n_frames:\n",
    "            video = np.vstack([video, video[-1:]])\n",
    "\n",
    "        if self.transform:\n",
    "            video = apply_video_augmentations_torch(video, self.transform)\n",
    "\n",
    "        target = np.zeros(N_CLASSES)\n",
    "        target[self.meta.iloc[idx].label_id] = 1\n",
    "            \n",
    "        return video, target"
   ]
  },
  {
   "cell_type": "code",
   "execution_count": 13,
   "metadata": {},
   "outputs": [],
   "source": [
    "train_dataset = ActionDataset(meta=X_train, stage=\"train\", transform=transform, n_frames=n_frames)\n",
    "train_dataloader = DataLoader(train_dataset, batch_size=batch_size, shuffle=True, num_workers=0, collate_fn=collate_fn, pin_memory=True)\n",
    "\n",
    "test_dataset = ActionDataset(meta=X_val, stage=\"test\", transform=transform, n_frames=n_frames)\n",
    "test_dataloader = DataLoader(test_dataset, batch_size=batch_size, shuffle=False, num_workers=0, collate_fn=collate_fn, pin_memory=True)"
   ]
  },
  {
   "cell_type": "code",
   "execution_count": 14,
   "metadata": {},
   "outputs": [],
   "source": [
    "epochs = 50\n",
    "warm_epochs = 10\n",
    "ema_warm_epochs = 14\n",
    "lr = 2e-4 #5e-5\n",
    "\n",
    "criterion = torch.nn.CrossEntropyLoss(label_smoothing=0.1)\n",
    "optimizer = optim.AdamW(model.parameters(), lr, weight_decay=2e-05)\n",
    "scheduler = optim.lr_scheduler.CosineAnnealingLR(optimizer, T_max=epochs, eta_min=5e-8)"
   ]
  },
  {
   "cell_type": "code",
   "execution_count": 15,
   "metadata": {},
   "outputs": [],
   "source": [
    "model_ema = None\n",
    "if USE_EMA:\n",
    "    adjust = world_size * batch_size * model_ema_steps / epochs\n",
    "    alpha = 1.0 - model_ema_decay\n",
    "    alpha = min(1.0, alpha * adjust)\n",
    "    model_ema = ExponentialMovingAverage(model, device=device, decay=1.0 - alpha)"
   ]
  },
  {
   "cell_type": "code",
   "execution_count": 16,
   "metadata": {},
   "outputs": [
    {
     "data": {
      "application/vnd.jupyter.widget-view+json": {
       "model_id": "fd272f1d0d4842cb888ba87c2c702ce1",
       "version_major": 2,
       "version_minor": 0
      },
      "text/plain": [
       "Epoch: 0 (train):   0%|          | 0/14 [00:00<?, ?it/s]"
      ]
     },
     "metadata": {},
     "output_type": "display_data"
    },
    {
     "data": {
      "application/vnd.jupyter.widget-view+json": {
       "model_id": "b17bb4a7af75407383748994719968cd",
       "version_major": 2,
       "version_minor": 0
      },
      "text/plain": [
       "Epoch: 0 (eval):   0%|          | 0/2 [00:00<?, ?it/s]"
      ]
     },
     "metadata": {},
     "output_type": "display_data"
    },
    {
     "name": "stdout",
     "output_type": "stream",
     "text": [
      "Training loss: 1.3284\n",
      "Valindation loss: 1.2331\n",
      "F1: 0.4088\n"
     ]
    },
    {
     "data": {
      "application/vnd.jupyter.widget-view+json": {
       "model_id": "2ef376e49e3b471aa8a64f91df684dde",
       "version_major": 2,
       "version_minor": 0
      },
      "text/plain": [
       "Epoch: 1 (train):   0%|          | 0/14 [00:00<?, ?it/s]"
      ]
     },
     "metadata": {},
     "output_type": "display_data"
    },
    {
     "data": {
      "application/vnd.jupyter.widget-view+json": {
       "model_id": "2d56fac92ba84e8a8e53a64f8d7cebc3",
       "version_major": 2,
       "version_minor": 0
      },
      "text/plain": [
       "Epoch: 1 (eval):   0%|          | 0/2 [00:00<?, ?it/s]"
      ]
     },
     "metadata": {},
     "output_type": "display_data"
    },
    {
     "name": "stdout",
     "output_type": "stream",
     "text": [
      "Training loss: 1.1183\n",
      "Valindation loss: 1.1608\n",
      "F1: 0.1711\n"
     ]
    },
    {
     "data": {
      "application/vnd.jupyter.widget-view+json": {
       "model_id": "f31e0ed6303c47588184028d6afe04ff",
       "version_major": 2,
       "version_minor": 0
      },
      "text/plain": [
       "Epoch: 2 (train):   0%|          | 0/14 [00:00<?, ?it/s]"
      ]
     },
     "metadata": {},
     "output_type": "display_data"
    },
    {
     "data": {
      "application/vnd.jupyter.widget-view+json": {
       "model_id": "b874a83f8148489ba193b56f6ddae729",
       "version_major": 2,
       "version_minor": 0
      },
      "text/plain": [
       "Epoch: 2 (eval):   0%|          | 0/2 [00:00<?, ?it/s]"
      ]
     },
     "metadata": {},
     "output_type": "display_data"
    },
    {
     "name": "stdout",
     "output_type": "stream",
     "text": [
      "Training loss: 1.0503\n",
      "Valindation loss: 1.2094\n",
      "F1: 0.1711\n"
     ]
    },
    {
     "data": {
      "application/vnd.jupyter.widget-view+json": {
       "model_id": "2a6f6fd6693749ffaf1abe5e0f021606",
       "version_major": 2,
       "version_minor": 0
      },
      "text/plain": [
       "Epoch: 3 (train):   0%|          | 0/14 [00:00<?, ?it/s]"
      ]
     },
     "metadata": {},
     "output_type": "display_data"
    },
    {
     "data": {
      "application/vnd.jupyter.widget-view+json": {
       "model_id": "2c2978ed15434a1d845bb91da1bc7b80",
       "version_major": 2,
       "version_minor": 0
      },
      "text/plain": [
       "Epoch: 3 (eval):   0%|          | 0/2 [00:00<?, ?it/s]"
      ]
     },
     "metadata": {},
     "output_type": "display_data"
    },
    {
     "name": "stdout",
     "output_type": "stream",
     "text": [
      "Training loss: 1.0171\n",
      "Valindation loss: 1.0500\n",
      "F1: 0.2781\n"
     ]
    },
    {
     "data": {
      "application/vnd.jupyter.widget-view+json": {
       "model_id": "4560df99b26a4d36a606f81c6def73d1",
       "version_major": 2,
       "version_minor": 0
      },
      "text/plain": [
       "Epoch: 4 (train):   0%|          | 0/14 [00:00<?, ?it/s]"
      ]
     },
     "metadata": {},
     "output_type": "display_data"
    },
    {
     "data": {
      "application/vnd.jupyter.widget-view+json": {
       "model_id": "de5e94d53f644062b0a105d5e22c49fe",
       "version_major": 2,
       "version_minor": 0
      },
      "text/plain": [
       "Epoch: 4 (eval):   0%|          | 0/2 [00:00<?, ?it/s]"
      ]
     },
     "metadata": {},
     "output_type": "display_data"
    },
    {
     "name": "stdout",
     "output_type": "stream",
     "text": [
      "Training loss: 0.9861\n",
      "Valindation loss: 1.1109\n",
      "F1: 0.4042\n"
     ]
    },
    {
     "data": {
      "application/vnd.jupyter.widget-view+json": {
       "model_id": "6575cb42b84a4832a89bb1296521a257",
       "version_major": 2,
       "version_minor": 0
      },
      "text/plain": [
       "Epoch: 5 (train):   0%|          | 0/14 [00:00<?, ?it/s]"
      ]
     },
     "metadata": {},
     "output_type": "display_data"
    },
    {
     "data": {
      "application/vnd.jupyter.widget-view+json": {
       "model_id": "d7a4a051d0c94010a672556f8d0537fd",
       "version_major": 2,
       "version_minor": 0
      },
      "text/plain": [
       "Epoch: 5 (eval):   0%|          | 0/2 [00:00<?, ?it/s]"
      ]
     },
     "metadata": {},
     "output_type": "display_data"
    },
    {
     "name": "stdout",
     "output_type": "stream",
     "text": [
      "Training loss: 0.9448\n",
      "Valindation loss: 1.1781\n",
      "F1: 0.2222\n"
     ]
    },
    {
     "data": {
      "application/vnd.jupyter.widget-view+json": {
       "model_id": "58f80586f6ad403c9a907a61ccec7b01",
       "version_major": 2,
       "version_minor": 0
      },
      "text/plain": [
       "Epoch: 6 (train):   0%|          | 0/14 [00:00<?, ?it/s]"
      ]
     },
     "metadata": {},
     "output_type": "display_data"
    },
    {
     "data": {
      "application/vnd.jupyter.widget-view+json": {
       "model_id": "cb0ea33987e64f4fa9e67bd563518df8",
       "version_major": 2,
       "version_minor": 0
      },
      "text/plain": [
       "Epoch: 6 (eval):   0%|          | 0/2 [00:00<?, ?it/s]"
      ]
     },
     "metadata": {},
     "output_type": "display_data"
    },
    {
     "name": "stdout",
     "output_type": "stream",
     "text": [
      "Training loss: 0.9486\n",
      "Valindation loss: 0.9432\n",
      "F1: 0.5274\n"
     ]
    },
    {
     "data": {
      "application/vnd.jupyter.widget-view+json": {
       "model_id": "778c9bc8c447432eb0b5307b71164b1b",
       "version_major": 2,
       "version_minor": 0
      },
      "text/plain": [
       "Epoch: 7 (train):   0%|          | 0/14 [00:00<?, ?it/s]"
      ]
     },
     "metadata": {},
     "output_type": "display_data"
    },
    {
     "data": {
      "application/vnd.jupyter.widget-view+json": {
       "model_id": "60c3b435148b484086a289a46f6c877e",
       "version_major": 2,
       "version_minor": 0
      },
      "text/plain": [
       "Epoch: 7 (eval):   0%|          | 0/2 [00:00<?, ?it/s]"
      ]
     },
     "metadata": {},
     "output_type": "display_data"
    },
    {
     "name": "stdout",
     "output_type": "stream",
     "text": [
      "Training loss: 0.9351\n",
      "Valindation loss: 1.1139\n",
      "F1: 0.4561\n"
     ]
    },
    {
     "data": {
      "application/vnd.jupyter.widget-view+json": {
       "model_id": "860089ae9f514e28b51f2c2434a1d877",
       "version_major": 2,
       "version_minor": 0
      },
      "text/plain": [
       "Epoch: 8 (train):   0%|          | 0/14 [00:00<?, ?it/s]"
      ]
     },
     "metadata": {},
     "output_type": "display_data"
    },
    {
     "data": {
      "application/vnd.jupyter.widget-view+json": {
       "model_id": "facd863943e743a5a3d96a4c77579e75",
       "version_major": 2,
       "version_minor": 0
      },
      "text/plain": [
       "Epoch: 8 (eval):   0%|          | 0/2 [00:00<?, ?it/s]"
      ]
     },
     "metadata": {},
     "output_type": "display_data"
    },
    {
     "name": "stdout",
     "output_type": "stream",
     "text": [
      "Training loss: 0.8939\n",
      "Valindation loss: 0.9838\n",
      "F1: 0.5032\n"
     ]
    },
    {
     "data": {
      "application/vnd.jupyter.widget-view+json": {
       "model_id": "42f5f6722d51480c9c5308a9eda837bf",
       "version_major": 2,
       "version_minor": 0
      },
      "text/plain": [
       "Epoch: 9 (train):   0%|          | 0/14 [00:00<?, ?it/s]"
      ]
     },
     "metadata": {},
     "output_type": "display_data"
    },
    {
     "data": {
      "application/vnd.jupyter.widget-view+json": {
       "model_id": "a6d74f5a53924985b0acd050806a4fb3",
       "version_major": 2,
       "version_minor": 0
      },
      "text/plain": [
       "Epoch: 9 (eval):   0%|          | 0/2 [00:00<?, ?it/s]"
      ]
     },
     "metadata": {},
     "output_type": "display_data"
    },
    {
     "name": "stdout",
     "output_type": "stream",
     "text": [
      "Training loss: 0.9274\n",
      "Valindation loss: 0.8168\n",
      "F1: 0.6336\n"
     ]
    },
    {
     "data": {
      "application/vnd.jupyter.widget-view+json": {
       "model_id": "91a0c72dbe614c5aa1d04e0826643e56",
       "version_major": 2,
       "version_minor": 0
      },
      "text/plain": [
       "Epoch: 10 (train):   0%|          | 0/14 [00:00<?, ?it/s]"
      ]
     },
     "metadata": {},
     "output_type": "display_data"
    },
    {
     "data": {
      "application/vnd.jupyter.widget-view+json": {
       "model_id": "83c2992fd87846e3a90ba5ee58d5e4ba",
       "version_major": 2,
       "version_minor": 0
      },
      "text/plain": [
       "Epoch: 10 (eval):   0%|          | 0/2 [00:00<?, ?it/s]"
      ]
     },
     "metadata": {},
     "output_type": "display_data"
    },
    {
     "name": "stdout",
     "output_type": "stream",
     "text": [
      "Training loss: 0.9505\n",
      "Valindation loss: 0.9901\n",
      "F1: 0.6865\n"
     ]
    },
    {
     "data": {
      "application/vnd.jupyter.widget-view+json": {
       "model_id": "33da944b80804d958e82aba6de217e13",
       "version_major": 2,
       "version_minor": 0
      },
      "text/plain": [
       "Epoch: 11 (train):   0%|          | 0/14 [00:00<?, ?it/s]"
      ]
     },
     "metadata": {},
     "output_type": "display_data"
    },
    {
     "data": {
      "application/vnd.jupyter.widget-view+json": {
       "model_id": "1c678a40924b4859a0ff86445c548b4f",
       "version_major": 2,
       "version_minor": 0
      },
      "text/plain": [
       "Epoch: 11 (eval):   0%|          | 0/2 [00:00<?, ?it/s]"
      ]
     },
     "metadata": {},
     "output_type": "display_data"
    },
    {
     "name": "stdout",
     "output_type": "stream",
     "text": [
      "Training loss: 0.8057\n",
      "Valindation loss: 0.7994\n",
      "F1: 0.78\n"
     ]
    },
    {
     "data": {
      "application/vnd.jupyter.widget-view+json": {
       "model_id": "b8a2d3264b74453e83f6c5a768625b89",
       "version_major": 2,
       "version_minor": 0
      },
      "text/plain": [
       "Epoch: 12 (train):   0%|          | 0/14 [00:00<?, ?it/s]"
      ]
     },
     "metadata": {},
     "output_type": "display_data"
    },
    {
     "data": {
      "application/vnd.jupyter.widget-view+json": {
       "model_id": "26bb5a069fbf4fe1960ab87b9d3ef8ef",
       "version_major": 2,
       "version_minor": 0
      },
      "text/plain": [
       "Epoch: 12 (eval):   0%|          | 0/2 [00:00<?, ?it/s]"
      ]
     },
     "metadata": {},
     "output_type": "display_data"
    },
    {
     "name": "stdout",
     "output_type": "stream",
     "text": [
      "Training loss: 0.7231\n",
      "Valindation loss: 1.0729\n",
      "F1: 0.4095\n"
     ]
    },
    {
     "data": {
      "application/vnd.jupyter.widget-view+json": {
       "model_id": "6d3e80714a6942a2beb6e16bfe62890a",
       "version_major": 2,
       "version_minor": 0
      },
      "text/plain": [
       "Epoch: 13 (train):   0%|          | 0/14 [00:00<?, ?it/s]"
      ]
     },
     "metadata": {},
     "output_type": "display_data"
    },
    {
     "data": {
      "application/vnd.jupyter.widget-view+json": {
       "model_id": "7756c0a319a4430bb2922d2793e06c54",
       "version_major": 2,
       "version_minor": 0
      },
      "text/plain": [
       "Epoch: 13 (eval):   0%|          | 0/2 [00:00<?, ?it/s]"
      ]
     },
     "metadata": {},
     "output_type": "display_data"
    },
    {
     "name": "stdout",
     "output_type": "stream",
     "text": [
      "Training loss: 0.6656\n",
      "Valindation loss: 0.4737\n",
      "F1: 1.0\n"
     ]
    },
    {
     "data": {
      "application/vnd.jupyter.widget-view+json": {
       "model_id": "f980c1edbb894b5185521b4853491b23",
       "version_major": 2,
       "version_minor": 0
      },
      "text/plain": [
       "Epoch: 14 (train):   0%|          | 0/14 [00:00<?, ?it/s]"
      ]
     },
     "metadata": {},
     "output_type": "display_data"
    },
    {
     "data": {
      "application/vnd.jupyter.widget-view+json": {
       "model_id": "af53efcd56904dab92dab59516ca2cb6",
       "version_major": 2,
       "version_minor": 0
      },
      "text/plain": [
       "Epoch: 14 (eval):   0%|          | 0/2 [00:00<?, ?it/s]"
      ]
     },
     "metadata": {},
     "output_type": "display_data"
    },
    {
     "name": "stdout",
     "output_type": "stream",
     "text": [
      "Training loss: 0.5696\n",
      "Valindation loss: 0.5877\n",
      "F1: 0.9759\n"
     ]
    },
    {
     "data": {
      "application/vnd.jupyter.widget-view+json": {
       "model_id": "e04e67f22bce4743be47e02007319219",
       "version_major": 2,
       "version_minor": 0
      },
      "text/plain": [
       "Epoch: 15 (train):   0%|          | 0/14 [00:00<?, ?it/s]"
      ]
     },
     "metadata": {},
     "output_type": "display_data"
    },
    {
     "data": {
      "application/vnd.jupyter.widget-view+json": {
       "model_id": "0c14896f018b4caaa60899cb2c1ce3c3",
       "version_major": 2,
       "version_minor": 0
      },
      "text/plain": [
       "Epoch: 15 (eval):   0%|          | 0/2 [00:00<?, ?it/s]"
      ]
     },
     "metadata": {},
     "output_type": "display_data"
    },
    {
     "data": {
      "application/vnd.jupyter.widget-view+json": {
       "model_id": "894987370d8b4153ac952edcca8917e2",
       "version_major": 2,
       "version_minor": 0
      },
      "text/plain": [
       "Epoch: 15 (ema):   0%|          | 0/2 [00:00<?, ?it/s]"
      ]
     },
     "metadata": {},
     "output_type": "display_data"
    },
    {
     "name": "stdout",
     "output_type": "stream",
     "text": [
      "Training loss: 0.5854\n",
      "Valindation loss: 1.1374\n",
      "Valindation loss (EMA): 0.6809\n",
      "F1: 0.6678\n",
      "F1 (EMA): 1.0\n"
     ]
    },
    {
     "data": {
      "application/vnd.jupyter.widget-view+json": {
       "model_id": "317fba8e887b4d6bb1c9ab039a70292f",
       "version_major": 2,
       "version_minor": 0
      },
      "text/plain": [
       "Epoch: 16 (train):   0%|          | 0/14 [00:00<?, ?it/s]"
      ]
     },
     "metadata": {},
     "output_type": "display_data"
    },
    {
     "data": {
      "application/vnd.jupyter.widget-view+json": {
       "model_id": "d2e9714f56244677bbb886e0f48de2b5",
       "version_major": 2,
       "version_minor": 0
      },
      "text/plain": [
       "Epoch: 16 (eval):   0%|          | 0/2 [00:00<?, ?it/s]"
      ]
     },
     "metadata": {},
     "output_type": "display_data"
    },
    {
     "data": {
      "application/vnd.jupyter.widget-view+json": {
       "model_id": "5b8e9faf7725428fbcba0f57a7128ccc",
       "version_major": 2,
       "version_minor": 0
      },
      "text/plain": [
       "Epoch: 16 (ema):   0%|          | 0/2 [00:00<?, ?it/s]"
      ]
     },
     "metadata": {},
     "output_type": "display_data"
    },
    {
     "name": "stdout",
     "output_type": "stream",
     "text": [
      "Training loss: 0.6530\n",
      "Valindation loss: 0.7286\n",
      "Valindation loss (EMA): 1.0117\n",
      "F1: 0.9726\n",
      "F1 (EMA): 0.5593\n"
     ]
    },
    {
     "data": {
      "application/vnd.jupyter.widget-view+json": {
       "model_id": "2f5a32a55e8246cfbd5b9ffd05ac6e8e",
       "version_major": 2,
       "version_minor": 0
      },
      "text/plain": [
       "Epoch: 17 (train):   0%|          | 0/14 [00:00<?, ?it/s]"
      ]
     },
     "metadata": {},
     "output_type": "display_data"
    },
    {
     "data": {
      "application/vnd.jupyter.widget-view+json": {
       "model_id": "ba0ce8b345014dfba330b9334880b3e5",
       "version_major": 2,
       "version_minor": 0
      },
      "text/plain": [
       "Epoch: 17 (eval):   0%|          | 0/2 [00:00<?, ?it/s]"
      ]
     },
     "metadata": {},
     "output_type": "display_data"
    },
    {
     "data": {
      "application/vnd.jupyter.widget-view+json": {
       "model_id": "960fcd6683a04df0b2ebfe54d7a9f2b9",
       "version_major": 2,
       "version_minor": 0
      },
      "text/plain": [
       "Epoch: 17 (ema):   0%|          | 0/2 [00:00<?, ?it/s]"
      ]
     },
     "metadata": {},
     "output_type": "display_data"
    },
    {
     "name": "stdout",
     "output_type": "stream",
     "text": [
      "Training loss: 0.6075\n",
      "Valindation loss: 0.5763\n",
      "Valindation loss (EMA): 1.1217\n",
      "F1: 1.0\n",
      "F1 (EMA): 0.8134\n"
     ]
    },
    {
     "data": {
      "application/vnd.jupyter.widget-view+json": {
       "model_id": "680bc28fda94434dad642f5a7db217cd",
       "version_major": 2,
       "version_minor": 0
      },
      "text/plain": [
       "Epoch: 18 (train):   0%|          | 0/14 [00:00<?, ?it/s]"
      ]
     },
     "metadata": {},
     "output_type": "display_data"
    },
    {
     "data": {
      "application/vnd.jupyter.widget-view+json": {
       "model_id": "5976e03e51ee4071b132dc49c7886666",
       "version_major": 2,
       "version_minor": 0
      },
      "text/plain": [
       "Epoch: 18 (eval):   0%|          | 0/2 [00:00<?, ?it/s]"
      ]
     },
     "metadata": {},
     "output_type": "display_data"
    },
    {
     "data": {
      "application/vnd.jupyter.widget-view+json": {
       "model_id": "eb1c1913f0cf45de8b6363d59c47ec70",
       "version_major": 2,
       "version_minor": 0
      },
      "text/plain": [
       "Epoch: 18 (ema):   0%|          | 0/2 [00:00<?, ?it/s]"
      ]
     },
     "metadata": {},
     "output_type": "display_data"
    },
    {
     "name": "stdout",
     "output_type": "stream",
     "text": [
      "Training loss: 0.5893\n",
      "Valindation loss: 1.2551\n",
      "Valindation loss (EMA): 0.8432\n",
      "F1: 0.5221\n",
      "F1 (EMA): 0.7605\n"
     ]
    },
    {
     "data": {
      "application/vnd.jupyter.widget-view+json": {
       "model_id": "ed98b84da94341dd85d092b72fb9429c",
       "version_major": 2,
       "version_minor": 0
      },
      "text/plain": [
       "Epoch: 19 (train):   0%|          | 0/14 [00:00<?, ?it/s]"
      ]
     },
     "metadata": {},
     "output_type": "display_data"
    },
    {
     "data": {
      "application/vnd.jupyter.widget-view+json": {
       "model_id": "f3154ebacf414764965d78e47b8b2239",
       "version_major": 2,
       "version_minor": 0
      },
      "text/plain": [
       "Epoch: 19 (eval):   0%|          | 0/2 [00:00<?, ?it/s]"
      ]
     },
     "metadata": {},
     "output_type": "display_data"
    },
    {
     "data": {
      "application/vnd.jupyter.widget-view+json": {
       "model_id": "cdb46fe956104fbebd8c150d77790066",
       "version_major": 2,
       "version_minor": 0
      },
      "text/plain": [
       "Epoch: 19 (ema):   0%|          | 0/2 [00:00<?, ?it/s]"
      ]
     },
     "metadata": {},
     "output_type": "display_data"
    },
    {
     "name": "stdout",
     "output_type": "stream",
     "text": [
      "Training loss: 0.8358\n",
      "Valindation loss: 0.6159\n",
      "Valindation loss (EMA): 0.9635\n",
      "F1: 1.0\n",
      "F1 (EMA): 1.0\n"
     ]
    },
    {
     "data": {
      "application/vnd.jupyter.widget-view+json": {
       "model_id": "18f9b5eb083c4160b8550a0e88762c95",
       "version_major": 2,
       "version_minor": 0
      },
      "text/plain": [
       "Epoch: 20 (train):   0%|          | 0/14 [00:00<?, ?it/s]"
      ]
     },
     "metadata": {},
     "output_type": "display_data"
    },
    {
     "data": {
      "application/vnd.jupyter.widget-view+json": {
       "model_id": "8464a6282a7240b08e26de3a9c28edf3",
       "version_major": 2,
       "version_minor": 0
      },
      "text/plain": [
       "Epoch: 20 (eval):   0%|          | 0/2 [00:00<?, ?it/s]"
      ]
     },
     "metadata": {},
     "output_type": "display_data"
    },
    {
     "data": {
      "application/vnd.jupyter.widget-view+json": {
       "model_id": "36d11194c37b4eca8114ce50eede23b5",
       "version_major": 2,
       "version_minor": 0
      },
      "text/plain": [
       "Epoch: 20 (ema):   0%|          | 0/2 [00:00<?, ?it/s]"
      ]
     },
     "metadata": {},
     "output_type": "display_data"
    },
    {
     "name": "stdout",
     "output_type": "stream",
     "text": [
      "Training loss: 0.6297\n",
      "Valindation loss: 0.6575\n",
      "Valindation loss (EMA): 0.4238\n",
      "F1: 0.9216\n",
      "F1 (EMA): 1.0\n"
     ]
    },
    {
     "data": {
      "application/vnd.jupyter.widget-view+json": {
       "model_id": "95c5b57e9ace462a87df9bbf0a389205",
       "version_major": 2,
       "version_minor": 0
      },
      "text/plain": [
       "Epoch: 21 (train):   0%|          | 0/14 [00:00<?, ?it/s]"
      ]
     },
     "metadata": {},
     "output_type": "display_data"
    },
    {
     "data": {
      "application/vnd.jupyter.widget-view+json": {
       "model_id": "d2357068402348d792b100197a443ed5",
       "version_major": 2,
       "version_minor": 0
      },
      "text/plain": [
       "Epoch: 21 (eval):   0%|          | 0/2 [00:00<?, ?it/s]"
      ]
     },
     "metadata": {},
     "output_type": "display_data"
    },
    {
     "data": {
      "application/vnd.jupyter.widget-view+json": {
       "model_id": "9af7f114fbbb4affa0af81b36ba4b5c0",
       "version_major": 2,
       "version_minor": 0
      },
      "text/plain": [
       "Epoch: 21 (ema):   0%|          | 0/2 [00:00<?, ?it/s]"
      ]
     },
     "metadata": {},
     "output_type": "display_data"
    },
    {
     "name": "stdout",
     "output_type": "stream",
     "text": [
      "Training loss: 0.6557\n",
      "Valindation loss: 0.5726\n",
      "Valindation loss (EMA): 1.3477\n",
      "F1: 0.916\n",
      "F1 (EMA): 0.3592\n"
     ]
    },
    {
     "data": {
      "application/vnd.jupyter.widget-view+json": {
       "model_id": "fcda4db85c1b4d91b02d890a631ce4db",
       "version_major": 2,
       "version_minor": 0
      },
      "text/plain": [
       "Epoch: 22 (train):   0%|          | 0/14 [00:00<?, ?it/s]"
      ]
     },
     "metadata": {},
     "output_type": "display_data"
    },
    {
     "data": {
      "application/vnd.jupyter.widget-view+json": {
       "model_id": "b9a0864772c447249d533d448e2e5407",
       "version_major": 2,
       "version_minor": 0
      },
      "text/plain": [
       "Epoch: 22 (eval):   0%|          | 0/2 [00:00<?, ?it/s]"
      ]
     },
     "metadata": {},
     "output_type": "display_data"
    },
    {
     "data": {
      "application/vnd.jupyter.widget-view+json": {
       "model_id": "c85b5f29dadc42da8e4673768711f636",
       "version_major": 2,
       "version_minor": 0
      },
      "text/plain": [
       "Epoch: 22 (ema):   0%|          | 0/2 [00:00<?, ?it/s]"
      ]
     },
     "metadata": {},
     "output_type": "display_data"
    },
    {
     "name": "stdout",
     "output_type": "stream",
     "text": [
      "Training loss: 0.7587\n",
      "Valindation loss: 0.6497\n",
      "Valindation loss (EMA): 0.4826\n",
      "F1: 1.0\n",
      "F1 (EMA): 1.0\n"
     ]
    },
    {
     "data": {
      "application/vnd.jupyter.widget-view+json": {
       "model_id": "6bb5b4fd5dc84db791a58b1a7663c1ee",
       "version_major": 2,
       "version_minor": 0
      },
      "text/plain": [
       "Epoch: 23 (train):   0%|          | 0/14 [00:00<?, ?it/s]"
      ]
     },
     "metadata": {},
     "output_type": "display_data"
    },
    {
     "data": {
      "application/vnd.jupyter.widget-view+json": {
       "model_id": "b371124e4ae54387a5c46e0fa54a0d30",
       "version_major": 2,
       "version_minor": 0
      },
      "text/plain": [
       "Epoch: 23 (eval):   0%|          | 0/2 [00:00<?, ?it/s]"
      ]
     },
     "metadata": {},
     "output_type": "display_data"
    },
    {
     "data": {
      "application/vnd.jupyter.widget-view+json": {
       "model_id": "f66f1edb75ab4b599c676420fbd54c8d",
       "version_major": 2,
       "version_minor": 0
      },
      "text/plain": [
       "Epoch: 23 (ema):   0%|          | 0/2 [00:00<?, ?it/s]"
      ]
     },
     "metadata": {},
     "output_type": "display_data"
    },
    {
     "name": "stdout",
     "output_type": "stream",
     "text": [
      "Training loss: 0.5852\n",
      "Valindation loss: 0.7638\n",
      "Valindation loss (EMA): 0.6971\n",
      "F1: 1.0\n",
      "F1 (EMA): 1.0\n"
     ]
    },
    {
     "data": {
      "application/vnd.jupyter.widget-view+json": {
       "model_id": "fae689d5618247d095ad824d004b6dd3",
       "version_major": 2,
       "version_minor": 0
      },
      "text/plain": [
       "Epoch: 24 (train):   0%|          | 0/14 [00:00<?, ?it/s]"
      ]
     },
     "metadata": {},
     "output_type": "display_data"
    },
    {
     "data": {
      "application/vnd.jupyter.widget-view+json": {
       "model_id": "3ddb712d17614496b9ed78f3cb7acba6",
       "version_major": 2,
       "version_minor": 0
      },
      "text/plain": [
       "Epoch: 24 (eval):   0%|          | 0/2 [00:00<?, ?it/s]"
      ]
     },
     "metadata": {},
     "output_type": "display_data"
    },
    {
     "data": {
      "application/vnd.jupyter.widget-view+json": {
       "model_id": "b102123b1ea24fad88da52d2a40e745e",
       "version_major": 2,
       "version_minor": 0
      },
      "text/plain": [
       "Epoch: 24 (ema):   0%|          | 0/2 [00:00<?, ?it/s]"
      ]
     },
     "metadata": {},
     "output_type": "display_data"
    },
    {
     "name": "stdout",
     "output_type": "stream",
     "text": [
      "Training loss: 0.7254\n",
      "Valindation loss: 0.6421\n",
      "Valindation loss (EMA): 0.7257\n",
      "F1: 1.0\n",
      "F1 (EMA): 0.8439\n"
     ]
    },
    {
     "data": {
      "application/vnd.jupyter.widget-view+json": {
       "model_id": "f2ce010d18fa494d95e2374928d931cd",
       "version_major": 2,
       "version_minor": 0
      },
      "text/plain": [
       "Epoch: 25 (train):   0%|          | 0/14 [00:00<?, ?it/s]"
      ]
     },
     "metadata": {},
     "output_type": "display_data"
    },
    {
     "data": {
      "application/vnd.jupyter.widget-view+json": {
       "model_id": "9883fe33aca24891af1acb2fdffa2670",
       "version_major": 2,
       "version_minor": 0
      },
      "text/plain": [
       "Epoch: 25 (eval):   0%|          | 0/2 [00:00<?, ?it/s]"
      ]
     },
     "metadata": {},
     "output_type": "display_data"
    },
    {
     "data": {
      "application/vnd.jupyter.widget-view+json": {
       "model_id": "b727a9a1f1d84b85a5a6f2c83bcdc291",
       "version_major": 2,
       "version_minor": 0
      },
      "text/plain": [
       "Epoch: 25 (ema):   0%|          | 0/2 [00:00<?, ?it/s]"
      ]
     },
     "metadata": {},
     "output_type": "display_data"
    },
    {
     "name": "stdout",
     "output_type": "stream",
     "text": [
      "Training loss: 0.5943\n",
      "Valindation loss: 0.8427\n",
      "Valindation loss (EMA): 0.9849\n",
      "F1: 0.5593\n",
      "F1 (EMA): 0.9673\n"
     ]
    },
    {
     "data": {
      "application/vnd.jupyter.widget-view+json": {
       "model_id": "43f495b8db584cd5a61eb5584483068f",
       "version_major": 2,
       "version_minor": 0
      },
      "text/plain": [
       "Epoch: 26 (train):   0%|          | 0/14 [00:00<?, ?it/s]"
      ]
     },
     "metadata": {},
     "output_type": "display_data"
    },
    {
     "data": {
      "application/vnd.jupyter.widget-view+json": {
       "model_id": "6daba8f2619944549c01c2d852ec62e4",
       "version_major": 2,
       "version_minor": 0
      },
      "text/plain": [
       "Epoch: 26 (eval):   0%|          | 0/2 [00:00<?, ?it/s]"
      ]
     },
     "metadata": {},
     "output_type": "display_data"
    },
    {
     "data": {
      "application/vnd.jupyter.widget-view+json": {
       "model_id": "9997d0c73c9746a78f8d5c2ff64d8850",
       "version_major": 2,
       "version_minor": 0
      },
      "text/plain": [
       "Epoch: 26 (ema):   0%|          | 0/2 [00:00<?, ?it/s]"
      ]
     },
     "metadata": {},
     "output_type": "display_data"
    },
    {
     "name": "stdout",
     "output_type": "stream",
     "text": [
      "Training loss: 0.6222\n",
      "Valindation loss: 0.6652\n",
      "Valindation loss (EMA): 0.4187\n",
      "F1: 1.0\n",
      "F1 (EMA): 1.0\n"
     ]
    },
    {
     "data": {
      "application/vnd.jupyter.widget-view+json": {
       "model_id": "6c167823c98a4e89a00aaa1eab5c1cfa",
       "version_major": 2,
       "version_minor": 0
      },
      "text/plain": [
       "Epoch: 27 (train):   0%|          | 0/14 [00:00<?, ?it/s]"
      ]
     },
     "metadata": {},
     "output_type": "display_data"
    },
    {
     "data": {
      "application/vnd.jupyter.widget-view+json": {
       "model_id": "d9b3653369cf497ea5174154de88f667",
       "version_major": 2,
       "version_minor": 0
      },
      "text/plain": [
       "Epoch: 27 (eval):   0%|          | 0/2 [00:00<?, ?it/s]"
      ]
     },
     "metadata": {},
     "output_type": "display_data"
    },
    {
     "data": {
      "application/vnd.jupyter.widget-view+json": {
       "model_id": "909ad619ce6b4a83946a37beb565989b",
       "version_major": 2,
       "version_minor": 0
      },
      "text/plain": [
       "Epoch: 27 (ema):   0%|          | 0/2 [00:00<?, ?it/s]"
      ]
     },
     "metadata": {},
     "output_type": "display_data"
    },
    {
     "name": "stdout",
     "output_type": "stream",
     "text": [
      "Training loss: 0.6763\n",
      "Valindation loss: 0.5728\n",
      "Valindation loss (EMA): 1.1499\n",
      "F1: 0.8842\n",
      "F1 (EMA): 0.7073\n"
     ]
    },
    {
     "data": {
      "application/vnd.jupyter.widget-view+json": {
       "model_id": "8330f4d770f441dc83fd47b1a99ae698",
       "version_major": 2,
       "version_minor": 0
      },
      "text/plain": [
       "Epoch: 28 (train):   0%|          | 0/14 [00:00<?, ?it/s]"
      ]
     },
     "metadata": {},
     "output_type": "display_data"
    },
    {
     "data": {
      "application/vnd.jupyter.widget-view+json": {
       "model_id": "e0999f8ad18741eaad03697a8353b7d6",
       "version_major": 2,
       "version_minor": 0
      },
      "text/plain": [
       "Epoch: 28 (eval):   0%|          | 0/2 [00:00<?, ?it/s]"
      ]
     },
     "metadata": {},
     "output_type": "display_data"
    },
    {
     "data": {
      "application/vnd.jupyter.widget-view+json": {
       "model_id": "7a4a289f9a784fb4a688f92ff5d7da5c",
       "version_major": 2,
       "version_minor": 0
      },
      "text/plain": [
       "Epoch: 28 (ema):   0%|          | 0/2 [00:00<?, ?it/s]"
      ]
     },
     "metadata": {},
     "output_type": "display_data"
    },
    {
     "name": "stdout",
     "output_type": "stream",
     "text": [
      "Training loss: 0.6376\n",
      "Valindation loss: 0.9240\n",
      "Valindation loss (EMA): 1.0362\n",
      "F1: 1.0\n",
      "F1 (EMA): 1.0\n"
     ]
    },
    {
     "data": {
      "application/vnd.jupyter.widget-view+json": {
       "model_id": "4c1e29875a294e178c3c494b81b9c5d8",
       "version_major": 2,
       "version_minor": 0
      },
      "text/plain": [
       "Epoch: 29 (train):   0%|          | 0/14 [00:00<?, ?it/s]"
      ]
     },
     "metadata": {},
     "output_type": "display_data"
    },
    {
     "data": {
      "application/vnd.jupyter.widget-view+json": {
       "model_id": "ce3fe31e455e4d86bd7cd126023440fe",
       "version_major": 2,
       "version_minor": 0
      },
      "text/plain": [
       "Epoch: 29 (eval):   0%|          | 0/2 [00:00<?, ?it/s]"
      ]
     },
     "metadata": {},
     "output_type": "display_data"
    },
    {
     "data": {
      "application/vnd.jupyter.widget-view+json": {
       "model_id": "ecc6258ee61b4865b2b52c0efa8bdcba",
       "version_major": 2,
       "version_minor": 0
      },
      "text/plain": [
       "Epoch: 29 (ema):   0%|          | 0/2 [00:00<?, ?it/s]"
      ]
     },
     "metadata": {},
     "output_type": "display_data"
    },
    {
     "name": "stdout",
     "output_type": "stream",
     "text": [
      "Training loss: 0.5476\n",
      "Valindation loss: 0.5861\n",
      "Valindation loss (EMA): 0.5132\n",
      "F1: 1.0\n",
      "F1 (EMA): 1.0\n"
     ]
    },
    {
     "data": {
      "application/vnd.jupyter.widget-view+json": {
       "model_id": "22109c299762478382ca9224604d8c09",
       "version_major": 2,
       "version_minor": 0
      },
      "text/plain": [
       "Epoch: 30 (train):   0%|          | 0/14 [00:00<?, ?it/s]"
      ]
     },
     "metadata": {},
     "output_type": "display_data"
    },
    {
     "data": {
      "application/vnd.jupyter.widget-view+json": {
       "model_id": "d7359d43055d49a98c24ede513d0a3b8",
       "version_major": 2,
       "version_minor": 0
      },
      "text/plain": [
       "Epoch: 30 (eval):   0%|          | 0/2 [00:00<?, ?it/s]"
      ]
     },
     "metadata": {},
     "output_type": "display_data"
    },
    {
     "data": {
      "application/vnd.jupyter.widget-view+json": {
       "model_id": "efef3ba30f2c443cbf713134a5cb84f8",
       "version_major": 2,
       "version_minor": 0
      },
      "text/plain": [
       "Epoch: 30 (ema):   0%|          | 0/2 [00:00<?, ?it/s]"
      ]
     },
     "metadata": {},
     "output_type": "display_data"
    },
    {
     "name": "stdout",
     "output_type": "stream",
     "text": [
      "Training loss: 0.7354\n",
      "Valindation loss: 1.0501\n",
      "Valindation loss (EMA): 0.7121\n",
      "F1: 0.9726\n",
      "F1 (EMA): 0.9726\n"
     ]
    },
    {
     "data": {
      "application/vnd.jupyter.widget-view+json": {
       "model_id": "0ff65899077444c3a07d7f466ba1d8d8",
       "version_major": 2,
       "version_minor": 0
      },
      "text/plain": [
       "Epoch: 31 (train):   0%|          | 0/14 [00:00<?, ?it/s]"
      ]
     },
     "metadata": {},
     "output_type": "display_data"
    },
    {
     "data": {
      "application/vnd.jupyter.widget-view+json": {
       "model_id": "41bd2eef12f94c759f85b6498d09f1ad",
       "version_major": 2,
       "version_minor": 0
      },
      "text/plain": [
       "Epoch: 31 (eval):   0%|          | 0/2 [00:00<?, ?it/s]"
      ]
     },
     "metadata": {},
     "output_type": "display_data"
    },
    {
     "data": {
      "application/vnd.jupyter.widget-view+json": {
       "model_id": "4503622fe061456197bd73499dad2535",
       "version_major": 2,
       "version_minor": 0
      },
      "text/plain": [
       "Epoch: 31 (ema):   0%|          | 0/2 [00:00<?, ?it/s]"
      ]
     },
     "metadata": {},
     "output_type": "display_data"
    },
    {
     "name": "stdout",
     "output_type": "stream",
     "text": [
      "Training loss: 0.5282\n",
      "Valindation loss: 0.6698\n",
      "Valindation loss (EMA): 0.8644\n",
      "F1: 1.0\n",
      "F1 (EMA): 1.0\n"
     ]
    },
    {
     "data": {
      "application/vnd.jupyter.widget-view+json": {
       "model_id": "dc6b24db295f466899f1b3e6451ee169",
       "version_major": 2,
       "version_minor": 0
      },
      "text/plain": [
       "Epoch: 32 (train):   0%|          | 0/14 [00:00<?, ?it/s]"
      ]
     },
     "metadata": {},
     "output_type": "display_data"
    },
    {
     "data": {
      "application/vnd.jupyter.widget-view+json": {
       "model_id": "654a17dd18d74ec68610073096f9b96f",
       "version_major": 2,
       "version_minor": 0
      },
      "text/plain": [
       "Epoch: 32 (eval):   0%|          | 0/2 [00:00<?, ?it/s]"
      ]
     },
     "metadata": {},
     "output_type": "display_data"
    },
    {
     "data": {
      "application/vnd.jupyter.widget-view+json": {
       "model_id": "4bcaad28e77a4d94a248eca2e5a0a4fa",
       "version_major": 2,
       "version_minor": 0
      },
      "text/plain": [
       "Epoch: 32 (ema):   0%|          | 0/2 [00:00<?, ?it/s]"
      ]
     },
     "metadata": {},
     "output_type": "display_data"
    },
    {
     "name": "stdout",
     "output_type": "stream",
     "text": [
      "Training loss: 0.7107\n",
      "Valindation loss: 0.6836\n",
      "Valindation loss (EMA): 1.1551\n",
      "F1: 0.839\n",
      "F1 (EMA): 1.0\n"
     ]
    },
    {
     "data": {
      "application/vnd.jupyter.widget-view+json": {
       "model_id": "4a60a846754144409817c375b756120f",
       "version_major": 2,
       "version_minor": 0
      },
      "text/plain": [
       "Epoch: 33 (train):   0%|          | 0/14 [00:00<?, ?it/s]"
      ]
     },
     "metadata": {},
     "output_type": "display_data"
    },
    {
     "data": {
      "application/vnd.jupyter.widget-view+json": {
       "model_id": "2116b333b72444e49df111882c8c2efe",
       "version_major": 2,
       "version_minor": 0
      },
      "text/plain": [
       "Epoch: 33 (eval):   0%|          | 0/2 [00:00<?, ?it/s]"
      ]
     },
     "metadata": {},
     "output_type": "display_data"
    },
    {
     "data": {
      "application/vnd.jupyter.widget-view+json": {
       "model_id": "bc2be078af2b439a85d781ff9674ddf4",
       "version_major": 2,
       "version_minor": 0
      },
      "text/plain": [
       "Epoch: 33 (ema):   0%|          | 0/2 [00:00<?, ?it/s]"
      ]
     },
     "metadata": {},
     "output_type": "display_data"
    },
    {
     "name": "stdout",
     "output_type": "stream",
     "text": [
      "Training loss: 0.6548\n",
      "Valindation loss: 0.9006\n",
      "Valindation loss (EMA): 1.1956\n",
      "F1: 0.5593\n",
      "F1 (EMA): 0.6737\n"
     ]
    },
    {
     "data": {
      "application/vnd.jupyter.widget-view+json": {
       "model_id": "6e148584992a46b3bc4fc9ff7d8e98c6",
       "version_major": 2,
       "version_minor": 0
      },
      "text/plain": [
       "Epoch: 34 (train):   0%|          | 0/14 [00:00<?, ?it/s]"
      ]
     },
     "metadata": {},
     "output_type": "display_data"
    },
    {
     "data": {
      "application/vnd.jupyter.widget-view+json": {
       "model_id": "f823042693174cb8885c8e1f1e724502",
       "version_major": 2,
       "version_minor": 0
      },
      "text/plain": [
       "Epoch: 34 (eval):   0%|          | 0/2 [00:00<?, ?it/s]"
      ]
     },
     "metadata": {},
     "output_type": "display_data"
    },
    {
     "data": {
      "application/vnd.jupyter.widget-view+json": {
       "model_id": "ab3ad2ab7fd8451190ae7cee81b4b5f7",
       "version_major": 2,
       "version_minor": 0
      },
      "text/plain": [
       "Epoch: 34 (ema):   0%|          | 0/2 [00:00<?, ?it/s]"
      ]
     },
     "metadata": {},
     "output_type": "display_data"
    },
    {
     "name": "stdout",
     "output_type": "stream",
     "text": [
      "Training loss: 0.6555\n",
      "Valindation loss: 0.8968\n",
      "Valindation loss (EMA): 0.5022\n",
      "F1: 0.757\n",
      "F1 (EMA): 1.0\n"
     ]
    },
    {
     "data": {
      "application/vnd.jupyter.widget-view+json": {
       "model_id": "bddf3fdc096a47f9b76341758c30129b",
       "version_major": 2,
       "version_minor": 0
      },
      "text/plain": [
       "Epoch: 35 (train):   0%|          | 0/14 [00:00<?, ?it/s]"
      ]
     },
     "metadata": {},
     "output_type": "display_data"
    },
    {
     "data": {
      "application/vnd.jupyter.widget-view+json": {
       "model_id": "4005b8f1538a44a6887398f1af4f64ae",
       "version_major": 2,
       "version_minor": 0
      },
      "text/plain": [
       "Epoch: 35 (eval):   0%|          | 0/2 [00:00<?, ?it/s]"
      ]
     },
     "metadata": {},
     "output_type": "display_data"
    },
    {
     "data": {
      "application/vnd.jupyter.widget-view+json": {
       "model_id": "6503be6511bc4850bfef91c827cd1216",
       "version_major": 2,
       "version_minor": 0
      },
      "text/plain": [
       "Epoch: 35 (ema):   0%|          | 0/2 [00:00<?, ?it/s]"
      ]
     },
     "metadata": {},
     "output_type": "display_data"
    },
    {
     "name": "stdout",
     "output_type": "stream",
     "text": [
      "Training loss: 0.6858\n",
      "Valindation loss: 0.4626\n",
      "Valindation loss (EMA): 0.8230\n",
      "F1: 1.0\n",
      "F1 (EMA): 0.8102\n"
     ]
    },
    {
     "data": {
      "application/vnd.jupyter.widget-view+json": {
       "model_id": "81ce146751674f89b9818bf511df4bed",
       "version_major": 2,
       "version_minor": 0
      },
      "text/plain": [
       "Epoch: 36 (train):   0%|          | 0/14 [00:00<?, ?it/s]"
      ]
     },
     "metadata": {},
     "output_type": "display_data"
    },
    {
     "data": {
      "application/vnd.jupyter.widget-view+json": {
       "model_id": "75c8c344add8407a9104b6266b63c6fb",
       "version_major": 2,
       "version_minor": 0
      },
      "text/plain": [
       "Epoch: 36 (eval):   0%|          | 0/2 [00:00<?, ?it/s]"
      ]
     },
     "metadata": {},
     "output_type": "display_data"
    },
    {
     "data": {
      "application/vnd.jupyter.widget-view+json": {
       "model_id": "2ccbfda8844e498ea60cfd57a0d53638",
       "version_major": 2,
       "version_minor": 0
      },
      "text/plain": [
       "Epoch: 36 (ema):   0%|          | 0/2 [00:00<?, ?it/s]"
      ]
     },
     "metadata": {},
     "output_type": "display_data"
    },
    {
     "name": "stdout",
     "output_type": "stream",
     "text": [
      "Training loss: 0.6776\n",
      "Valindation loss: 0.7518\n",
      "Valindation loss (EMA): 0.3927\n",
      "F1: 1.0\n",
      "F1 (EMA): 1.0\n"
     ]
    },
    {
     "data": {
      "application/vnd.jupyter.widget-view+json": {
       "model_id": "80f385cbbec44ee5a3b5e5c99dff527c",
       "version_major": 2,
       "version_minor": 0
      },
      "text/plain": [
       "Epoch: 37 (train):   0%|          | 0/14 [00:00<?, ?it/s]"
      ]
     },
     "metadata": {},
     "output_type": "display_data"
    },
    {
     "data": {
      "application/vnd.jupyter.widget-view+json": {
       "model_id": "3cb29378792d4d93b53e9a0c52e2e4a6",
       "version_major": 2,
       "version_minor": 0
      },
      "text/plain": [
       "Epoch: 37 (eval):   0%|          | 0/2 [00:00<?, ?it/s]"
      ]
     },
     "metadata": {},
     "output_type": "display_data"
    },
    {
     "data": {
      "application/vnd.jupyter.widget-view+json": {
       "model_id": "e1873fb74fd44a43b4c5d553ab18d148",
       "version_major": 2,
       "version_minor": 0
      },
      "text/plain": [
       "Epoch: 37 (ema):   0%|          | 0/2 [00:00<?, ?it/s]"
      ]
     },
     "metadata": {},
     "output_type": "display_data"
    },
    {
     "name": "stdout",
     "output_type": "stream",
     "text": [
      "Training loss: 0.6183\n",
      "Valindation loss: 0.7381\n",
      "Valindation loss (EMA): 0.6462\n",
      "F1: 0.7828\n",
      "F1 (EMA): 1.0\n"
     ]
    },
    {
     "data": {
      "application/vnd.jupyter.widget-view+json": {
       "model_id": "1afe247e60634eaeb20b520327aaa4e5",
       "version_major": 2,
       "version_minor": 0
      },
      "text/plain": [
       "Epoch: 38 (train):   0%|          | 0/14 [00:00<?, ?it/s]"
      ]
     },
     "metadata": {},
     "output_type": "display_data"
    },
    {
     "data": {
      "application/vnd.jupyter.widget-view+json": {
       "model_id": "a295e171d0e84652935ca78e847db8f7",
       "version_major": 2,
       "version_minor": 0
      },
      "text/plain": [
       "Epoch: 38 (eval):   0%|          | 0/2 [00:00<?, ?it/s]"
      ]
     },
     "metadata": {},
     "output_type": "display_data"
    },
    {
     "data": {
      "application/vnd.jupyter.widget-view+json": {
       "model_id": "1650d76d65e44e29a8339416edd9a3ce",
       "version_major": 2,
       "version_minor": 0
      },
      "text/plain": [
       "Epoch: 38 (ema):   0%|          | 0/2 [00:00<?, ?it/s]"
      ]
     },
     "metadata": {},
     "output_type": "display_data"
    },
    {
     "name": "stdout",
     "output_type": "stream",
     "text": [
      "Training loss: 0.5461\n",
      "Valindation loss: 0.6867\n",
      "Valindation loss (EMA): 1.1177\n",
      "F1: 0.7005\n",
      "F1 (EMA): 0.2891\n"
     ]
    },
    {
     "data": {
      "application/vnd.jupyter.widget-view+json": {
       "model_id": "a3f78ee9c9104436b076c98bbaf971cb",
       "version_major": 2,
       "version_minor": 0
      },
      "text/plain": [
       "Epoch: 39 (train):   0%|          | 0/14 [00:00<?, ?it/s]"
      ]
     },
     "metadata": {},
     "output_type": "display_data"
    },
    {
     "data": {
      "application/vnd.jupyter.widget-view+json": {
       "model_id": "d1841734b009401ba0435418f955f692",
       "version_major": 2,
       "version_minor": 0
      },
      "text/plain": [
       "Epoch: 39 (eval):   0%|          | 0/2 [00:00<?, ?it/s]"
      ]
     },
     "metadata": {},
     "output_type": "display_data"
    },
    {
     "data": {
      "application/vnd.jupyter.widget-view+json": {
       "model_id": "fba23a0c2b0b45d09a27a409c395f2ae",
       "version_major": 2,
       "version_minor": 0
      },
      "text/plain": [
       "Epoch: 39 (ema):   0%|          | 0/2 [00:00<?, ?it/s]"
      ]
     },
     "metadata": {},
     "output_type": "display_data"
    },
    {
     "name": "stdout",
     "output_type": "stream",
     "text": [
      "Training loss: 0.7062\n",
      "Valindation loss: 0.4176\n",
      "Valindation loss (EMA): 0.6253\n",
      "F1: 1.0\n",
      "F1 (EMA): 0.9409\n"
     ]
    },
    {
     "data": {
      "application/vnd.jupyter.widget-view+json": {
       "model_id": "4f69fa33376f44f3949a91f819825386",
       "version_major": 2,
       "version_minor": 0
      },
      "text/plain": [
       "Epoch: 40 (train):   0%|          | 0/14 [00:00<?, ?it/s]"
      ]
     },
     "metadata": {},
     "output_type": "display_data"
    },
    {
     "data": {
      "application/vnd.jupyter.widget-view+json": {
       "model_id": "a1fdacccda674b558d90a41abdc46dd2",
       "version_major": 2,
       "version_minor": 0
      },
      "text/plain": [
       "Epoch: 40 (eval):   0%|          | 0/2 [00:00<?, ?it/s]"
      ]
     },
     "metadata": {},
     "output_type": "display_data"
    },
    {
     "data": {
      "application/vnd.jupyter.widget-view+json": {
       "model_id": "8aa498a294694424a30737214a709bd0",
       "version_major": 2,
       "version_minor": 0
      },
      "text/plain": [
       "Epoch: 40 (ema):   0%|          | 0/2 [00:00<?, ?it/s]"
      ]
     },
     "metadata": {},
     "output_type": "display_data"
    },
    {
     "name": "stdout",
     "output_type": "stream",
     "text": [
      "Training loss: 0.6307\n",
      "Valindation loss: 0.7500\n",
      "Valindation loss (EMA): 1.0264\n",
      "F1: 0.9453\n",
      "F1 (EMA): 0.5499\n"
     ]
    },
    {
     "data": {
      "application/vnd.jupyter.widget-view+json": {
       "model_id": "cb25122e204448dcae04d0fca2cab81d",
       "version_major": 2,
       "version_minor": 0
      },
      "text/plain": [
       "Epoch: 41 (train):   0%|          | 0/14 [00:00<?, ?it/s]"
      ]
     },
     "metadata": {},
     "output_type": "display_data"
    },
    {
     "data": {
      "application/vnd.jupyter.widget-view+json": {
       "model_id": "fe232c99506244559980a156095c93f2",
       "version_major": 2,
       "version_minor": 0
      },
      "text/plain": [
       "Epoch: 41 (eval):   0%|          | 0/2 [00:00<?, ?it/s]"
      ]
     },
     "metadata": {},
     "output_type": "display_data"
    },
    {
     "data": {
      "application/vnd.jupyter.widget-view+json": {
       "model_id": "29fcaf74f8334373b3203e15bbb0ab48",
       "version_major": 2,
       "version_minor": 0
      },
      "text/plain": [
       "Epoch: 41 (ema):   0%|          | 0/2 [00:00<?, ?it/s]"
      ]
     },
     "metadata": {},
     "output_type": "display_data"
    },
    {
     "name": "stdout",
     "output_type": "stream",
     "text": [
      "Training loss: 0.6702\n",
      "Valindation loss: 0.5414\n",
      "Valindation loss (EMA): 0.5402\n",
      "F1: 1.0\n",
      "F1 (EMA): 1.0\n"
     ]
    },
    {
     "data": {
      "application/vnd.jupyter.widget-view+json": {
       "model_id": "4eb316457b89489ab78272d7350c697f",
       "version_major": 2,
       "version_minor": 0
      },
      "text/plain": [
       "Epoch: 42 (train):   0%|          | 0/14 [00:00<?, ?it/s]"
      ]
     },
     "metadata": {},
     "output_type": "display_data"
    },
    {
     "data": {
      "application/vnd.jupyter.widget-view+json": {
       "model_id": "74b62000567146d8a020244927d1ed18",
       "version_major": 2,
       "version_minor": 0
      },
      "text/plain": [
       "Epoch: 42 (eval):   0%|          | 0/2 [00:00<?, ?it/s]"
      ]
     },
     "metadata": {},
     "output_type": "display_data"
    },
    {
     "data": {
      "application/vnd.jupyter.widget-view+json": {
       "model_id": "a40253443d9848628d9f8d4ac792f37b",
       "version_major": 2,
       "version_minor": 0
      },
      "text/plain": [
       "Epoch: 42 (ema):   0%|          | 0/2 [00:00<?, ?it/s]"
      ]
     },
     "metadata": {},
     "output_type": "display_data"
    },
    {
     "name": "stdout",
     "output_type": "stream",
     "text": [
      "Training loss: 0.6758\n",
      "Valindation loss: 0.6450\n",
      "Valindation loss (EMA): 1.1738\n",
      "F1: 1.0\n",
      "F1 (EMA): 0.5593\n"
     ]
    },
    {
     "data": {
      "application/vnd.jupyter.widget-view+json": {
       "model_id": "384845adfb9a41b591899c8a96a75089",
       "version_major": 2,
       "version_minor": 0
      },
      "text/plain": [
       "Epoch: 43 (train):   0%|          | 0/14 [00:00<?, ?it/s]"
      ]
     },
     "metadata": {},
     "output_type": "display_data"
    },
    {
     "data": {
      "application/vnd.jupyter.widget-view+json": {
       "model_id": "83eb87fc15444650b5811d94ee9eae5e",
       "version_major": 2,
       "version_minor": 0
      },
      "text/plain": [
       "Epoch: 43 (eval):   0%|          | 0/2 [00:00<?, ?it/s]"
      ]
     },
     "metadata": {},
     "output_type": "display_data"
    },
    {
     "data": {
      "application/vnd.jupyter.widget-view+json": {
       "model_id": "bcb8709775e14e78ac2802ac5b461685",
       "version_major": 2,
       "version_minor": 0
      },
      "text/plain": [
       "Epoch: 43 (ema):   0%|          | 0/2 [00:00<?, ?it/s]"
      ]
     },
     "metadata": {},
     "output_type": "display_data"
    },
    {
     "name": "stdout",
     "output_type": "stream",
     "text": [
      "Training loss: 0.6479\n",
      "Valindation loss: 0.6167\n",
      "Valindation loss (EMA): 0.9470\n",
      "F1: 1.0\n",
      "F1 (EMA): 0.6737\n"
     ]
    },
    {
     "data": {
      "application/vnd.jupyter.widget-view+json": {
       "model_id": "6d88ecc0c10043358aac959301c28145",
       "version_major": 2,
       "version_minor": 0
      },
      "text/plain": [
       "Epoch: 44 (train):   0%|          | 0/14 [00:00<?, ?it/s]"
      ]
     },
     "metadata": {},
     "output_type": "display_data"
    },
    {
     "data": {
      "application/vnd.jupyter.widget-view+json": {
       "model_id": "a13f38c0be164b2c88454af931740cbe",
       "version_major": 2,
       "version_minor": 0
      },
      "text/plain": [
       "Epoch: 44 (eval):   0%|          | 0/2 [00:00<?, ?it/s]"
      ]
     },
     "metadata": {},
     "output_type": "display_data"
    },
    {
     "data": {
      "application/vnd.jupyter.widget-view+json": {
       "model_id": "382a96a1516543599f728809b850cf71",
       "version_major": 2,
       "version_minor": 0
      },
      "text/plain": [
       "Epoch: 44 (ema):   0%|          | 0/2 [00:00<?, ?it/s]"
      ]
     },
     "metadata": {},
     "output_type": "display_data"
    },
    {
     "name": "stdout",
     "output_type": "stream",
     "text": [
      "Training loss: 0.7284\n",
      "Valindation loss: 0.8430\n",
      "Valindation loss (EMA): 0.6332\n",
      "F1: 0.8401\n",
      "F1 (EMA): 1.0\n"
     ]
    },
    {
     "data": {
      "application/vnd.jupyter.widget-view+json": {
       "model_id": "fa25807443034fb28e33fd547937f144",
       "version_major": 2,
       "version_minor": 0
      },
      "text/plain": [
       "Epoch: 45 (train):   0%|          | 0/14 [00:00<?, ?it/s]"
      ]
     },
     "metadata": {},
     "output_type": "display_data"
    },
    {
     "data": {
      "application/vnd.jupyter.widget-view+json": {
       "model_id": "6858689ba7e6449db366185556405e40",
       "version_major": 2,
       "version_minor": 0
      },
      "text/plain": [
       "Epoch: 45 (eval):   0%|          | 0/2 [00:00<?, ?it/s]"
      ]
     },
     "metadata": {},
     "output_type": "display_data"
    },
    {
     "data": {
      "application/vnd.jupyter.widget-view+json": {
       "model_id": "a6c3534151aa40bfba8e234868336a55",
       "version_major": 2,
       "version_minor": 0
      },
      "text/plain": [
       "Epoch: 45 (ema):   0%|          | 0/2 [00:00<?, ?it/s]"
      ]
     },
     "metadata": {},
     "output_type": "display_data"
    },
    {
     "name": "stdout",
     "output_type": "stream",
     "text": [
      "Training loss: 0.5857\n",
      "Valindation loss: 0.3739\n",
      "Valindation loss (EMA): 0.6564\n",
      "F1: 1.0\n",
      "F1 (EMA): 1.0\n"
     ]
    },
    {
     "data": {
      "application/vnd.jupyter.widget-view+json": {
       "model_id": "8e4f31415b7445e8a880d6b11abeca78",
       "version_major": 2,
       "version_minor": 0
      },
      "text/plain": [
       "Epoch: 46 (train):   0%|          | 0/14 [00:00<?, ?it/s]"
      ]
     },
     "metadata": {},
     "output_type": "display_data"
    },
    {
     "data": {
      "application/vnd.jupyter.widget-view+json": {
       "model_id": "bb1e4e912efe47d2a908477edf7acab9",
       "version_major": 2,
       "version_minor": 0
      },
      "text/plain": [
       "Epoch: 46 (eval):   0%|          | 0/2 [00:00<?, ?it/s]"
      ]
     },
     "metadata": {},
     "output_type": "display_data"
    },
    {
     "data": {
      "application/vnd.jupyter.widget-view+json": {
       "model_id": "ff5cd3d012834d2bbd3f0359afd3488f",
       "version_major": 2,
       "version_minor": 0
      },
      "text/plain": [
       "Epoch: 46 (ema):   0%|          | 0/2 [00:00<?, ?it/s]"
      ]
     },
     "metadata": {},
     "output_type": "display_data"
    },
    {
     "name": "stdout",
     "output_type": "stream",
     "text": [
      "Training loss: 0.7124\n",
      "Valindation loss: 0.7992\n",
      "Valindation loss (EMA): 0.3797\n",
      "F1: 0.8761\n",
      "F1 (EMA): 1.0\n"
     ]
    },
    {
     "data": {
      "application/vnd.jupyter.widget-view+json": {
       "model_id": "eaa872ea3d0449b899210a08501de669",
       "version_major": 2,
       "version_minor": 0
      },
      "text/plain": [
       "Epoch: 47 (train):   0%|          | 0/14 [00:00<?, ?it/s]"
      ]
     },
     "metadata": {},
     "output_type": "display_data"
    },
    {
     "data": {
      "application/vnd.jupyter.widget-view+json": {
       "model_id": "d0d446ae9c004debb559fa642dfa29fe",
       "version_major": 2,
       "version_minor": 0
      },
      "text/plain": [
       "Epoch: 47 (eval):   0%|          | 0/2 [00:00<?, ?it/s]"
      ]
     },
     "metadata": {},
     "output_type": "display_data"
    },
    {
     "data": {
      "application/vnd.jupyter.widget-view+json": {
       "model_id": "685006e398054eadaf5110501e9c2e32",
       "version_major": 2,
       "version_minor": 0
      },
      "text/plain": [
       "Epoch: 47 (ema):   0%|          | 0/2 [00:00<?, ?it/s]"
      ]
     },
     "metadata": {},
     "output_type": "display_data"
    },
    {
     "name": "stdout",
     "output_type": "stream",
     "text": [
      "Training loss: 0.5875\n",
      "Valindation loss: 0.5583\n",
      "Valindation loss (EMA): 1.0409\n",
      "F1: 1.0\n",
      "F1 (EMA): 0.4611\n"
     ]
    },
    {
     "data": {
      "application/vnd.jupyter.widget-view+json": {
       "model_id": "dda35e1ad1cb4ad0927ea76f5186e84c",
       "version_major": 2,
       "version_minor": 0
      },
      "text/plain": [
       "Epoch: 48 (train):   0%|          | 0/14 [00:00<?, ?it/s]"
      ]
     },
     "metadata": {},
     "output_type": "display_data"
    },
    {
     "data": {
      "application/vnd.jupyter.widget-view+json": {
       "model_id": "8f707b7f50794b3f853d4929560b5178",
       "version_major": 2,
       "version_minor": 0
      },
      "text/plain": [
       "Epoch: 48 (eval):   0%|          | 0/2 [00:00<?, ?it/s]"
      ]
     },
     "metadata": {},
     "output_type": "display_data"
    },
    {
     "data": {
      "application/vnd.jupyter.widget-view+json": {
       "model_id": "9ec4c81b98c64b748e10e4141567b149",
       "version_major": 2,
       "version_minor": 0
      },
      "text/plain": [
       "Epoch: 48 (ema):   0%|          | 0/2 [00:00<?, ?it/s]"
      ]
     },
     "metadata": {},
     "output_type": "display_data"
    },
    {
     "name": "stdout",
     "output_type": "stream",
     "text": [
      "Training loss: 0.6231\n",
      "Valindation loss: 0.5278\n",
      "Valindation loss (EMA): 0.4345\n",
      "F1: 1.0\n",
      "F1 (EMA): 1.0\n"
     ]
    },
    {
     "data": {
      "application/vnd.jupyter.widget-view+json": {
       "model_id": "588c8aeeb9444171947de4703da60a9b",
       "version_major": 2,
       "version_minor": 0
      },
      "text/plain": [
       "Epoch: 49 (train):   0%|          | 0/14 [00:00<?, ?it/s]"
      ]
     },
     "metadata": {},
     "output_type": "display_data"
    },
    {
     "data": {
      "application/vnd.jupyter.widget-view+json": {
       "model_id": "645751794b5b49889103e4cd898e5eb9",
       "version_major": 2,
       "version_minor": 0
      },
      "text/plain": [
       "Epoch: 49 (eval):   0%|          | 0/2 [00:00<?, ?it/s]"
      ]
     },
     "metadata": {},
     "output_type": "display_data"
    },
    {
     "data": {
      "application/vnd.jupyter.widget-view+json": {
       "model_id": "1055cc9719a44a448f67e4c5d29cbda9",
       "version_major": 2,
       "version_minor": 0
      },
      "text/plain": [
       "Epoch: 49 (ema):   0%|          | 0/2 [00:00<?, ?it/s]"
      ]
     },
     "metadata": {},
     "output_type": "display_data"
    },
    {
     "name": "stdout",
     "output_type": "stream",
     "text": [
      "Training loss: 0.6931\n",
      "Valindation loss: 0.6768\n",
      "Valindation loss (EMA): 0.4021\n",
      "F1: 0.8241\n",
      "F1 (EMA): 1.0\n"
     ]
    }
   ],
   "source": [
    "best_score = 0\n",
    "best_loss = np.inf\n",
    "\n",
    "for epoch in range(epochs):\n",
    "\n",
    "    # TRAIN MODEL\n",
    "    model.train()    \n",
    "\n",
    "    if epoch <= warm_epochs:\n",
    "        if epoch < warm_epochs:\n",
    "            for param in model.parameters():\n",
    "                param.requires_grad = False\n",
    "            for param in model.head.parameters():\n",
    "                param.requires_grad = True\n",
    "        if epoch == warm_epochs:\n",
    "            for param in model.parameters():\n",
    "                param.requires_grad = True\n",
    "\n",
    "    train_loss = []\n",
    "    for i, (batch, target) in enumerate(tqdm(train_dataloader, desc=f\"Epoch: {epoch} (train)\")):\n",
    "        optimizer.zero_grad()\n",
    "        \n",
    "        with torch.autocast(\"cuda\"):\n",
    "            batch = batch.to(device)\n",
    "            target = target.to(device)\n",
    "\n",
    "            logits = model(batch)\n",
    "\n",
    "            loss = criterion(logits, target)\n",
    "\n",
    "        scaler.scale(loss).backward()\n",
    "        scaler.step(optimizer)\n",
    "        scaler.update()\n",
    "        # loss.backward()\n",
    "        # optimizer.step()\n",
    "\n",
    "        train_loss.append(loss.item())\n",
    "\n",
    "        # update ema model\n",
    "        if model_ema and i % model_ema_steps == 0:\n",
    "            model_ema.update_parameters(model)\n",
    "            if epoch <= ema_warm_epochs:\n",
    "                model_ema.n_averaged.fill_(0)\n",
    "    \n",
    "    # EVAL MODEL \n",
    "    model.eval()  \n",
    "\n",
    "    val_targets = []\n",
    "    val_preds = []\n",
    "    val_loss = 0\n",
    "    for i, (batch, target) in enumerate(tqdm(test_dataloader, desc=f\"Epoch: {epoch} (eval)\")):\n",
    "\n",
    "        with torch.autocast(\"cuda\"):\n",
    "            batch = batch.to(device)\n",
    "            target = target.to(device)\n",
    "\n",
    "            with torch.no_grad():\n",
    "                logits = model(batch)\n",
    "                loss = criterion(logits, target)\n",
    "\n",
    "        val_loss += loss.item()\n",
    "        val_targets.extend(target.argmax(1).cpu().tolist())\n",
    "        val_preds.extend(logits.argmax(1).cpu().tolist())\n",
    "\n",
    "    val_loss /= len(test_dataloader)\n",
    "    val_score = round(f1_score(val_targets, val_preds, average='macro'), 4)\n",
    "\n",
    "    # EVAL EMA MODEL\n",
    "    if epoch > ema_warm_epochs and model_ema is not None:\n",
    "        model_ema.eval()  \n",
    "\n",
    "        val_targets = []\n",
    "        val_preds = []\n",
    "        ema_val_loss = 0\n",
    "        for i, (batch, target) in enumerate(tqdm(test_dataloader, desc=f\"Epoch: {epoch} (ema)\")):\n",
    "\n",
    "            with torch.autocast(\"cuda\"):\n",
    "                batch = batch.to(device)\n",
    "                target = target.to(device)\n",
    "\n",
    "                with torch.no_grad():\n",
    "                    logits = model_ema(batch)\n",
    "                    loss = criterion(logits, target)\n",
    "\n",
    "            ema_val_loss += loss.item()\n",
    "            val_targets.extend(target.argmax(1).cpu().tolist())\n",
    "            val_preds.extend(logits.argmax(1).cpu().tolist())\n",
    "\n",
    "        ema_val_loss /= len(test_dataloader)\n",
    "        ema_val_score = round(f1_score(val_targets, val_preds, average='macro'), 4)\n",
    "\n",
    "    # LOG RESULTS\n",
    "    print(f'Training loss: {np.mean(train_loss):.4f}')\n",
    "    print(f'Valindation loss: {val_loss:.4f}')\n",
    "    tb_writer.add_scalar(\"loss/train\", np.mean(train_loss))\n",
    "    tb_writer.add_scalar(\"loss/val\", val_loss)\n",
    "    if epoch > ema_warm_epochs and model_ema is not None:\n",
    "        print(f'Valindation loss (EMA): {ema_val_loss:.4f}')\n",
    "        tb_writer.add_scalar(\"loss/ema\", ema_val_loss)\n",
    "\n",
    "    print('F1:', val_score)\n",
    "    tb_writer.add_scalar(\"f1/val\", val_score)\n",
    "    if epoch > ema_warm_epochs and model_ema is not None:\n",
    "        print('F1 (EMA):', ema_val_score)\n",
    "        tb_writer.add_scalar(\"f1/ema\", val_score)\n",
    "\n",
    "    if val_loss < best_loss:\n",
    "        best_loss = val_loss\n",
    "        torch.save(model, \"best.pt\")\n",
    "\n",
    "    torch.save(model, \"last.pt\")\n",
    "    if epoch > ema_warm_epochs and model_ema is not None:\n",
    "        torch.save(model_ema.state_dict(), \"last_ema.pt\")"
   ]
  },
  {
   "attachments": {},
   "cell_type": "markdown",
   "metadata": {},
   "source": [
    "# Convert to onnx & openvino"
   ]
  },
  {
   "cell_type": "code",
   "execution_count": 17,
   "metadata": {},
   "outputs": [],
   "source": [
    "X_val = pd.read_csv(\"test.csv\")"
   ]
  },
  {
   "cell_type": "code",
   "execution_count": 18,
   "metadata": {},
   "outputs": [],
   "source": [
    "model = torch.load(\"last.pt\")\n",
    "\n",
    "if USE_EMA:\n",
    "    adjust = world_size * batch_size * model_ema_steps / epochs\n",
    "    alpha = 1.0 - model_ema_decay\n",
    "    alpha = min(1.0, alpha * adjust)\n",
    "    model_ema = ExponentialMovingAverage(model, device=device, decay=1.0 - alpha)\n",
    "    ema_weights = torch.load(\"last_ema.pt\", map_location=\"cpu\")\n",
    "    model_ema.load_state_dict(ema_weights)\n",
    "    model = model_ema\n",
    "\n",
    "model.to(device)\n",
    "model.eval()\n",
    "\n",
    "file_path = X_val.iloc[0].video_path\n",
    "container = av.open(file_path)\n",
    "indices = sample_frame_indices(clip_len=n_frames, seg_len=container.streams.video[0].frames)\n",
    "video = read_video_pyav(container, indices)\n",
    "inputs = apply_video_augmentations_torch(video, transform).unsqueeze(0)\n",
    "\n",
    "outputs = model(inputs.to(device)).cpu()\n",
    "input_names = [\"input\"]\n",
    "output_names = [\"output\"]"
   ]
  },
  {
   "cell_type": "code",
   "execution_count": 19,
   "metadata": {},
   "outputs": [
    {
     "name": "stdout",
     "output_type": "stream",
     "text": [
      "============= Diagnostic Run torch.onnx.export version 2.0.1+cu117 =============\n",
      "verbose: False, log level: Level.ERROR\n",
      "======================= 0 NONE 0 NOTE 0 WARNING 0 ERROR ========================\n",
      "\n"
     ]
    }
   ],
   "source": [
    "import onnx\n",
    "import onnxruntime as ort\n",
    "\n",
    "onnx_path = \"../submit_videorec/model/model.onnx\"\n",
    "\n",
    "model = model.float().cpu()\n",
    "model.eval()\n",
    "\n",
    "torch.onnx.export(\n",
    "    model,\n",
    "    inputs,\n",
    "    onnx_path,  # where to save the model\n",
    "    opset_version=14,  # the ONNX version to export the model to\n",
    "    input_names=[\"input\"],  # the model's input names\n",
    "    output_names=['output'],  # the model's output names\n",
    "    dynamic_axes={  # variable length axes\n",
    "        \"input\": {0: \"batch\", 1: \"channels\", 2: \"sequence\"},\n",
    "        \"output\": {0: \"batch\"},\n",
    "    }\n",
    ")"
   ]
  },
  {
   "cell_type": "code",
   "execution_count": 20,
   "metadata": {},
   "outputs": [],
   "source": [
    "# from onnxsim import simplify\n",
    "\n",
    "# model = onnx.load(onnx_path)\n",
    "# model_simp, check = simplify(model)\n",
    "# assert check, \"Simplified ONNX model could not be validated\"\n",
    "\n",
    "# onnx.save(model_simp, \"model_simplified.onnx\")"
   ]
  },
  {
   "cell_type": "code",
   "execution_count": 21,
   "metadata": {},
   "outputs": [],
   "source": [
    "from openvino.runtime import serialize\n",
    "from openvino.tools import mo\n",
    "\n",
    "ov_model = mo.convert_model('../submit_videorec/model/model.onnx', compress_to_fp16=True)\n",
    "serialize(ov_model, '../submit_videorec/model/model.xml')"
   ]
  },
  {
   "cell_type": "code",
   "execution_count": 20,
   "metadata": {},
   "outputs": [],
   "source": [
    "# dummy_inputs = {\"input\": inputs.cpu().numpy()}\n",
    "\n",
    "# ort_session = ort.InferenceSession(\"model.onnx\")\n",
    "\n",
    "# # compute ONNX Runtime output prediction\n",
    "# ort_outs = ort_session.run(None, dummy_inputs)[0]\n",
    "\n",
    "# # compute pytorch model outputs\n",
    "# with torch.no_grad():\n",
    "#     model.cpu()\n",
    "#     torch_model_outs = model(inputs).numpy()\n",
    "#     model.cuda()\n",
    "\n",
    "# np.testing.assert_allclose(\n",
    "#     torch_model_outs,\n",
    "#     ort_outs,\n",
    "#     rtol=1e-03,\n",
    "#     atol=1e-05,\n",
    "# )"
   ]
  },
  {
   "attachments": {},
   "cell_type": "markdown",
   "metadata": {},
   "source": [
    "# Test"
   ]
  },
  {
   "cell_type": "code",
   "execution_count": 22,
   "metadata": {},
   "outputs": [
    {
     "data": {
      "text/plain": [
       "50"
      ]
     },
     "execution_count": 22,
     "metadata": {},
     "output_type": "execute_result"
    }
   ],
   "source": [
    "# X_val.to_csv(\"test.csv\", index=False)\n",
    "X_val = pd.read_csv(\"test.csv\")\n",
    "len(X_val)"
   ]
  },
  {
   "cell_type": "code",
   "execution_count": 23,
   "metadata": {},
   "outputs": [
    {
     "data": {
      "application/vnd.jupyter.widget-view+json": {
       "model_id": "9a73f8de84f847c189188aa3393771b9",
       "version_major": 2,
       "version_minor": 0
      },
      "text/plain": [
       "  0%|          | 0/50 [00:00<?, ?it/s]"
      ]
     },
     "metadata": {},
     "output_type": "display_data"
    }
   ],
   "source": [
    "from dataset import get_frames\n",
    "from pathlib import Path\n",
    "from tqdm.auto import tqdm\n",
    "import numpy as np\n",
    "import random\n",
    "\n",
    "\n",
    "test_videos_paths = [Path(p) for p in X_val.video_path.values][:]\n",
    "test_targets = X_val.label_id[:]\n",
    "test_targets_masked = [t for t in test_targets for _ in range(6)]\n",
    "\n",
    "clips = [\n",
    "    get_frames(vp)\n",
    "    for vp in tqdm(test_videos_paths[:])\n",
    "]\n",
    "\n",
    "masks = [\n",
    "    np.ones(len(c), dtype=bool)\n",
    "    for c in clips\n",
    "]\n",
    "\n",
    "new_masks = []\n",
    "for m in masks:\n",
    "    new_masks.append(m)\n",
    "    for _ in range(5):\n",
    "        new_m = m.copy()\n",
    "        new_m[np.random.choice(range(0, len(m)), int(len(m)*0.2), replace=False).astype(int)] = False\n",
    "        new_masks.append(new_m)\n",
    "\n",
    "masked_clips = []\n",
    "for i, c in enumerate(clips):\n",
    "    for m in new_masks[i*6:(i+1)*6]:\n",
    "        masked_clips.append(c[m])"
   ]
  },
  {
   "attachments": {},
   "cell_type": "markdown",
   "metadata": {},
   "source": [
    "## onnx/openvino model"
   ]
  },
  {
   "cell_type": "code",
   "execution_count": 24,
   "metadata": {},
   "outputs": [],
   "source": [
    "import sys\n",
    "sys.path.append(\"../\")\n",
    "# from submit_transformer.predict import predict\n",
    "# from submit_videorec.predict_openvino import predict as predict_openvino\n",
    "from submit_videorec.predict_onnx import predict as predict_onnx"
   ]
  },
  {
   "cell_type": "code",
   "execution_count": 25,
   "metadata": {},
   "outputs": [
    {
     "data": {
      "application/vnd.jupyter.widget-view+json": {
       "model_id": "c1dd0f68ab2e41d5849a516e754859d9",
       "version_major": 2,
       "version_minor": 0
      },
      "text/plain": [
       "  0%|          | 0/300 [00:00<?, ?it/s]"
      ]
     },
     "metadata": {},
     "output_type": "display_data"
    },
    {
     "data": {
      "text/plain": [
       "1.0"
      ]
     },
     "execution_count": 25,
     "metadata": {},
     "output_type": "execute_result"
    }
   ],
   "source": [
    "BUFFER = {}\n",
    "# 32 frames = 1.38 min\n",
    "# 16 frames = \n",
    "\n",
    "preds = [\n",
    "    predict_onnx(clip, BUFFER)\n",
    "    for clip in tqdm(masked_clips)\n",
    "]\n",
    "preds_ids = [label2id[i] for i in preds]\n",
    "round(f1_score(test_targets_masked, preds_ids, average='macro'), 4)"
   ]
  },
  {
   "cell_type": "code",
   "execution_count": 29,
   "metadata": {},
   "outputs": [
    {
     "data": {
      "application/vnd.jupyter.widget-view+json": {
       "model_id": "4165ba3308814e9aa4080901e5920200",
       "version_major": 2,
       "version_minor": 0
      },
      "text/plain": [
       "  0%|          | 0/300 [00:00<?, ?it/s]"
      ]
     },
     "metadata": {},
     "output_type": "display_data"
    },
    {
     "data": {
      "text/plain": [
       "1.0"
      ]
     },
     "execution_count": 29,
     "metadata": {},
     "output_type": "execute_result"
    }
   ],
   "source": [
    "BUFFER = {}\n",
    "\n",
    "preds = [\n",
    "    predict_openvino(clip, BUFFER)\n",
    "    for clip in tqdm(masked_clips)\n",
    "]\n",
    "preds_ids = [label2id[i] for i in preds]\n",
    "round(f1_score(test_targets_masked, preds_ids, average='macro'), 4)"
   ]
  },
  {
   "cell_type": "code",
   "execution_count": 41,
   "metadata": {},
   "outputs": [],
   "source": [
    "# 0.748 window=2"
   ]
  },
  {
   "attachments": {},
   "cell_type": "markdown",
   "metadata": {},
   "source": [
    "## torch model"
   ]
  },
  {
   "cell_type": "code",
   "execution_count": 42,
   "metadata": {},
   "outputs": [
    {
     "data": {
      "application/vnd.jupyter.widget-view+json": {
       "model_id": "88bb463029454e999b03da66dedffd7e",
       "version_major": 2,
       "version_minor": 0
      },
      "text/plain": [
       "  0%|          | 0/300 [00:00<?, ?it/s]"
      ]
     },
     "metadata": {},
     "output_type": "display_data"
    }
   ],
   "source": [
    "model = torch.load(\"best.pt\", map_location=\"cpu\")\n",
    "model.cuda()\n",
    "model.eval()\n",
    "\n",
    "preds_torch = []\n",
    "for clip in tqdm(masked_clips):\n",
    "    # start_idx, end_idx = 0, len(clip)\n",
    "    # indices = np.linspace(start_idx, end_idx, num=n_frames)\n",
    "    # indices = np.clip(indices, start_idx, end_idx - 1).astype(np.int32)\n",
    "    step = 2\n",
    "    s = 0\n",
    "    e = (s + n_frames) * step\n",
    "    clip = clip[s:e:step]\n",
    "    clip = apply_video_augmentations_torch(clip, transform).unsqueeze(0)\n",
    "\n",
    "    with torch.autocast(\"cuda\"):\n",
    "        clip = clip.to(device)\n",
    "        with torch.no_grad():\n",
    "            logits = model(clip).cpu()\n",
    "        preds_torch.append(logits.argmax(1)[0].item())"
   ]
  },
  {
   "cell_type": "code",
   "execution_count": 43,
   "metadata": {},
   "outputs": [
    {
     "data": {
      "text/plain": [
       "0.9142"
      ]
     },
     "execution_count": 43,
     "metadata": {},
     "output_type": "execute_result"
    }
   ],
   "source": [
    "round(f1_score(test_targets_masked, preds_torch, average='macro'), 4)"
   ]
  },
  {
   "cell_type": "code",
   "execution_count": 27,
   "metadata": {},
   "outputs": [],
   "source": [
    "# for i, j in zip(preds_torch, test_targets):\n",
    "#     print(i, j)"
   ]
  },
  {
   "cell_type": "code",
   "execution_count": null,
   "metadata": {},
   "outputs": [],
   "source": []
  }
 ],
 "metadata": {
  "kernelspec": {
   "display_name": "sibur",
   "language": "python",
   "name": "python3"
  },
  "language_info": {
   "codemirror_mode": {
    "name": "ipython",
    "version": 3
   },
   "file_extension": ".py",
   "mimetype": "text/x-python",
   "name": "python",
   "nbconvert_exporter": "python",
   "pygments_lexer": "ipython3",
   "version": "3.10.11"
  },
  "orig_nbformat": 4
 },
 "nbformat": 4,
 "nbformat_minor": 2
}
