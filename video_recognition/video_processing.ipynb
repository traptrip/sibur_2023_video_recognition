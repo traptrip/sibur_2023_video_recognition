{
 "cells": [
  {
   "cell_type": "code",
   "execution_count": null,
   "id": "cb3d9fa3-1538-4f9d-baee-7c38868637f0",
   "metadata": {},
   "outputs": [],
   "source": [
    "from pathlib import Path\n",
    "import random\n",
    "\n",
    "import av\n",
    "import cv2\n",
    "import numpy as np\n",
    "\n",
    "import albumentations as A\n",
    "from vidaug import augmentors as va\n",
    "\n",
    "from IPython.display import Video\n",
    "\n",
    "%matplotlib inline\n",
    "from matplotlib import pyplot as plt\n",
    "from matplotlib import animation\n",
    "from IPython.display import HTML"
   ]
  },
  {
   "cell_type": "code",
   "execution_count": null,
   "id": "981b6576-5aad-4cc3-b82b-52e571f6d70c",
   "metadata": {},
   "outputs": [],
   "source": [
    "def read_video_pyav(container, indices):\n",
    "    frames = []\n",
    "    container.seek(0)\n",
    "    start_index = indices[0]\n",
    "    end_index = indices[-1]\n",
    "    for i, frame in enumerate(container.decode(video=0)):\n",
    "        if i > end_index:\n",
    "            break\n",
    "        if i >= start_index and i in indices:\n",
    "            frames.append(frame)\n",
    "    return np.stack([x.to_ndarray(format=\"rgb24\") for x in frames])\n",
    "\n",
    "\n",
    "def sample_frame_indices(clip_len, frame_sample_rate, seg_len):\n",
    "    converted_len = int(clip_len * frame_sample_rate)\n",
    "    end_idx = np.random.randint(converted_len, seg_len) if converted_len != seg_len else seg_len\n",
    "    start_idx = end_idx - converted_len\n",
    "    indices = np.linspace(start_idx, end_idx, num=clip_len)\n",
    "    indices = np.clip(indices, start_idx, end_idx - 1).astype(np.int64)\n",
    "    return indices"
   ]
  },
  {
   "cell_type": "code",
   "execution_count": null,
   "id": "1f729eb4-e6af-4250-a9b1-9b6ab0e268e4",
   "metadata": {},
   "outputs": [],
   "source": [
    "def animate_video(video: np.ndarray):\n",
    "    video = np.stack(\n",
    "        [cv2.resize(frame, (240, 240)) for frame in video]\n",
    "    )\n",
    "    fig = plt.figure(figsize=(4, 4))\n",
    "    plt.subplots_adjust(left=0.01, right=0.99, top=0.99, bottom=0.01)\n",
    "\n",
    "    im = plt.imshow(video[0,:,:,:])\n",
    "    plt.axis('off')\n",
    "\n",
    "    plt.close() # this is required to not display the generated image\n",
    "\n",
    "    def init():\n",
    "        im.set_data(video[0,:,:,:])\n",
    "\n",
    "    def animate(i):\n",
    "        im.set_data(video[i,:,:,:])\n",
    "        return im\n",
    "\n",
    "    anim = animation.FuncAnimation(fig, animate, init_func=init, frames=video.shape[0],\n",
    "                                interval=100)\n",
    "    return anim"
   ]
  },
  {
   "cell_type": "code",
   "execution_count": null,
   "id": "58065c88",
   "metadata": {},
   "outputs": [],
   "source": [
    "def apply_video_augmentations(video, transform):\n",
    "    targets={'image': video[0]}\n",
    "    for i in range(1, video.shape[0]):\n",
    "        targets[f'image{i}'] = video[i]\n",
    "    transformed = transform(**targets)\n",
    "    transformed = np.concatenate(\n",
    "        [np.expand_dims(transformed['image'], axis=0)] \n",
    "        + [np.expand_dims(transformed[f'image{i}'], axis=0) for i in range(1, video.shape[0])]\n",
    "    )\n",
    "    return transformed"
   ]
  },
  {
   "cell_type": "code",
   "execution_count": null,
   "id": "6543e609-4827-44f0-85e1-9331f76736d5",
   "metadata": {},
   "outputs": [],
   "source": [
    "data_dir = Path(\"../data/sibur_data/bridge_down\")\n",
    "videos_paths = list(data_dir.rglob(\"*.mp4\"))\n",
    "file_path = random.choice(videos_paths)\n",
    "container = av.open(file_path.as_posix())\n",
    "\n",
    "print(file_path.parent.name)\n",
    "Video(file_path)"
   ]
  },
  {
   "cell_type": "code",
   "execution_count": null,
   "id": "3387d498",
   "metadata": {},
   "outputs": [],
   "source": [
    "frame_sample_rate = 10\n",
    "indices = sample_frame_indices(\n",
    "    clip_len=int((container.streams.video[0].frames - 2) / frame_sample_rate), \n",
    "    frame_sample_rate=frame_sample_rate, \n",
    "    seg_len=container.streams.video[0].frames - 2\n",
    ")\n",
    "video = read_video_pyav(container, indices)\n",
    "a = animate_video(video)\n",
    "display(HTML(a.to_html5_video()))"
   ]
  },
  {
   "cell_type": "code",
   "execution_count": null,
   "id": "55642e2c",
   "metadata": {},
   "outputs": [],
   "source": [
    "train_transform = A.Compose([\n",
    "    A.RandomResizedCrop(224, 224, scale=(0.3, 1.0), p=1),\n",
    "    A.HorizontalFlip(p=0.5),\n",
    "    A.ShiftScaleRotate(\n",
    "        shift_limit=0.0625, scale_limit=0.1, rotate_limit=30, p=0.5\n",
    "    ),\n",
    "    A.RGBShift(r_shift_limit=15, g_shift_limit=15, b_shift_limit=15, p=0.5),\n",
    "    A.RandomBrightnessContrast(p=0.5),\n",
    "    A.Blur(blur_limit=8, p=0.5),  # Blurs the image\n",
    "    A.HueSaturationValue(p=0.5),\n",
    "    A.Cutout(num_holes=12, p=0.15),\n",
    "], additional_targets={\n",
    "    f'image{i}': 'image'\n",
    "    for i in range(1, len(video))\n",
    "})\n",
    "\n",
    "transform = A.Compose([\n",
    "    A.Resize(256, 256),\n",
    "    A.CenterCrop(224, 224),\n",
    "], additional_targets={\n",
    "    f'image{i}': 'image'\n",
    "    for i in range(1, len(video))\n",
    "})"
   ]
  },
  {
   "cell_type": "code",
   "execution_count": null,
   "id": "bc7c0c6d",
   "metadata": {},
   "outputs": [],
   "source": [
    "train_video = apply_video_augmentations(video, train_transform)\n",
    "test_video = apply_video_augmentations(video, transform)\n",
    "\n",
    "sometimes = lambda aug: va.Sometimes(0.5, aug)\n",
    "video_aug = va.Sequential([\n",
    "    va.OneOf([\n",
    "        va.Upsample(1.25),\n",
    "        va.Downsample(0.75)\n",
    "    ]),\n",
    "    va.Pepper(50),\n",
    "    va.RandomShear(0.1, 0.1)\n",
    "])\n",
    "\n",
    "v = animate_video(np.array(test_video))\n",
    "display(HTML(v.to_html5_video()))\n",
    "\n",
    "v = animate_video(np.array(video_aug(train_video)))\n",
    "display(HTML(v.to_html5_video()))\n",
    "\n",
    "v = animate_video(np.array(video_aug(test_video)))\n",
    "display(HTML(v.to_html5_video()))"
   ]
  },
  {
   "cell_type": "code",
   "execution_count": null,
   "id": "f080d84e-e341-4537-9fb7-a7a672f70c15",
   "metadata": {},
   "outputs": [],
   "source": []
  }
 ],
 "metadata": {
  "kernelspec": {
   "display_name": "Python 3 (ipykernel)",
   "language": "python",
   "name": "python3"
  },
  "language_info": {
   "codemirror_mode": {
    "name": "ipython",
    "version": 3
   },
   "file_extension": ".py",
   "mimetype": "text/x-python",
   "name": "python",
   "nbconvert_exporter": "python",
   "pygments_lexer": "ipython3",
   "version": "3.10.11"
  }
 },
 "nbformat": 4,
 "nbformat_minor": 5
}
